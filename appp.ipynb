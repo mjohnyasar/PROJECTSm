{
  "nbformat": 4,
  "nbformat_minor": 0,
  "metadata": {
    "colab": {
      "name": "appp.ipynb",
      "provenance": [],
      "collapsed_sections": [],
      "include_colab_link": true
    },
    "kernelspec": {
      "display_name": "Python 3",
      "name": "python3"
    },
    "language_info": {
      "name": "python"
    },
    "accelerator": "GPU"
  },
  "cells": [
    {
      "cell_type": "markdown",
      "metadata": {
        "id": "view-in-github",
        "colab_type": "text"
      },
      "source": [
        "<a href=\"https://colab.research.google.com/github/muharremyasar/PROJECTSm/blob/main/appp.ipynb\" target=\"_parent\"><img src=\"https://colab.research.google.com/assets/colab-badge.svg\" alt=\"Open In Colab\"/></a>"
      ]
    },
    {
      "cell_type": "markdown",
      "source": [
        "\n",
        "[How to import Kaggle datasets directly to Google Colab](https://www.analyticsvidhya.com/blog/2021/06/how-to-load-kaggle-datasets-directly-into-google-colab/#h2_2)"
      ],
      "metadata": {
        "id": "bwEBPaM7u4Cg"
      }
    },
    {
      "cell_type": "code",
      "source": [
        "! pip install -q kaggle   # 1. Install the Kaggle library\n",
        "! mkdir ~/.kaggle      # 2. Make a directory named “.kaggle”\n",
        "! cp kaggle.json ~/.kaggle/   # 3. Copy the “kaggle.json” into this new directory\n",
        "! chmod 600 ~/.kaggle/kaggle.json   # 4. Allocate the required permission for this file."
      ],
      "metadata": {
        "id": "tzzDufSgru3w"
      },
      "execution_count": null,
      "outputs": []
    },
    {
      "cell_type": "code",
      "source": [
        "! kaggle datasets download -d mczielinski/bitcoin-historical-data\n",
        "! unzip <bitcoin-historical-data>"
      ],
      "metadata": {
        "colab": {
          "base_uri": "https://localhost:8080/"
        },
        "id": "_Rkd0OQNs7Cx",
        "outputId": "de504266-139f-4bba-b7b1-073604918939"
      },
      "execution_count": null,
      "outputs": [
        {
          "output_type": "stream",
          "name": "stdout",
          "text": [
            "Downloading bitcoin-historical-data.zip to /content\n",
            "100% 100M/100M [00:00<00:00, 100MB/s]  \n",
            "100% 100M/100M [00:01<00:00, 103MB/s]\n"
          ]
        }
      ]
    },
    {
      "cell_type": "code",
      "metadata": {
        "colab": {
          "base_uri": "https://localhost:8080/"
        },
        "id": "hujM5tFk3u7N",
        "outputId": "5dedbcb8-5ff6-401b-abaf-7d7821efd87a"
      },
      "source": [
        " ! pip install streamlit -q"
      ],
      "execution_count": null,
      "outputs": [
        {
          "output_type": "stream",
          "name": "stdout",
          "text": [
            "\u001b[K     |████████████████████████████████| 9.1 MB 5.3 MB/s \n",
            "\u001b[K     |████████████████████████████████| 178 kB 40.8 MB/s \n",
            "\u001b[K     |████████████████████████████████| 4.3 MB 41.6 MB/s \n",
            "\u001b[K     |████████████████████████████████| 111 kB 45.2 MB/s \n",
            "\u001b[K     |████████████████████████████████| 76 kB 4.5 MB/s \n",
            "\u001b[K     |████████████████████████████████| 180 kB 49.7 MB/s \n",
            "\u001b[K     |████████████████████████████████| 63 kB 1.6 MB/s \n",
            "\u001b[K     |████████████████████████████████| 126 kB 49.0 MB/s \n",
            "\u001b[K     |████████████████████████████████| 791 kB 36.6 MB/s \n",
            "\u001b[K     |████████████████████████████████| 374 kB 39.1 MB/s \n",
            "\u001b[?25h  Building wheel for pympler (setup.py) ... \u001b[?25l\u001b[?25hdone\n",
            "  Building wheel for blinker (setup.py) ... \u001b[?25l\u001b[?25hdone\n",
            "\u001b[31mERROR: pip's dependency resolver does not currently take into account all the packages that are installed. This behaviour is the source of the following dependency conflicts.\n",
            "jupyter-console 5.2.0 requires prompt-toolkit<2.0.0,>=1.0.0, but you have prompt-toolkit 3.0.23 which is incompatible.\n",
            "google-colab 1.0.0 requires ipykernel~=4.10, but you have ipykernel 6.6.0 which is incompatible.\n",
            "google-colab 1.0.0 requires ipython~=5.5.0, but you have ipython 7.30.1 which is incompatible.\u001b[0m\n"
          ]
        }
      ]
    },
    {
      "cell_type": "code",
      "source": [
        ""
      ],
      "metadata": {
        "id": "ynnax1wlrtbY"
      },
      "execution_count": null,
      "outputs": []
    },
    {
      "cell_type": "markdown",
      "metadata": {
        "id": "9GGZdqgN90gk"
      },
      "source": [
        ""
      ]
    },
    {
      "cell_type": "markdown",
      "source": [
        ""
      ],
      "metadata": {
        "id": "mXM3RdQJo7r5"
      }
    },
    {
      "cell_type": "code",
      "metadata": {
        "colab": {
          "base_uri": "https://localhost:8080/"
        },
        "id": "IkwZWIk2SSAg",
        "outputId": "63487c08-f77b-4d6a-d177-23df510ae36d"
      },
      "source": [
        "%%writefile appp.py\n",
        "import streamlit as st\n",
        "\n",
        "st.write(\"# Merhaba \")\n",
        "st.write(\"## Arkadaslar \")"
      ],
      "execution_count": null,
      "outputs": [
        {
          "output_type": "stream",
          "name": "stdout",
          "text": [
            "Overwriting appp.py\n"
          ]
        }
      ]
    },
    {
      "cell_type": "code",
      "source": [
        "! streamlit run appp.py & npx localtunnel --port 8501"
      ],
      "metadata": {
        "id": "TzoI1L5EgC8d",
        "colab": {
          "base_uri": "https://localhost:8080/"
        },
        "outputId": "3453c479-0be0-45bb-bda1-a97ef4ef7965"
      },
      "execution_count": null,
      "outputs": [
        {
          "output_type": "stream",
          "name": "stdout",
          "text": [
            "2021-12-08 19:19:45.884 INFO    numexpr.utils: NumExpr defaulting to 2 threads.\n",
            "\u001b[0m\n",
            "\u001b[34m\u001b[1m  You can now view your Streamlit app in your browser.\u001b[0m\n",
            "\u001b[0m\n",
            "\u001b[34m  Network URL: \u001b[0m\u001b[1mhttp://172.28.0.2:8501\u001b[0m\n",
            "\u001b[34m  External URL: \u001b[0m\u001b[1mhttp://34.134.235.96:8501\u001b[0m\n",
            "\u001b[0m\n",
            "\u001b[K\u001b[?25hnpx: installed 22 in 3.455s\n",
            "your url is: https://empty-cheetah-25.loca.lt\n",
            "\u001b[34m  Stopping...\u001b[0m\n",
            "^C\n"
          ]
        }
      ]
    },
    {
      "cell_type": "code",
      "source": [
        ""
      ],
      "metadata": {
        "id": "CuVoQmJMgFnv"
      },
      "execution_count": null,
      "outputs": []
    },
    {
      "cell_type": "code",
      "metadata": {
        "colab": {
          "base_uri": "https://localhost:8080/"
        },
        "id": "oYeAtsev-jFk",
        "outputId": "31d288f8-f895-4ed2-ffb1-9330a2b6611f"
      },
      "source": [
        "! pip uninstall pandas"
      ],
      "execution_count": null,
      "outputs": [
        {
          "output_type": "stream",
          "name": "stdout",
          "text": [
            "Found existing installation: pandas 1.1.5\n",
            "Uninstalling pandas-1.1.5:\n",
            "  Would remove:\n",
            "    /usr/local/lib/python3.7/dist-packages/pandas-1.1.5.dist-info/*\n",
            "    /usr/local/lib/python3.7/dist-packages/pandas/*\n",
            "Proceed (y/n)? y\n",
            "  Successfully uninstalled pandas-1.1.5\n"
          ]
        }
      ]
    },
    {
      "cell_type": "code",
      "metadata": {
        "colab": {
          "base_uri": "https://localhost:8080/",
          "height": 329
        },
        "id": "C70cRrww-nXu",
        "outputId": "e283cbc0-58fc-4218-da56-ceea6f2d7516"
      },
      "source": [
        "! pip install pandas"
      ],
      "execution_count": null,
      "outputs": [
        {
          "output_type": "stream",
          "name": "stdout",
          "text": [
            "Collecting pandas\n",
            "  Downloading pandas-1.3.4-cp37-cp37m-manylinux_2_17_x86_64.manylinux2014_x86_64.whl (11.3 MB)\n",
            "\u001b[K     |████████████████████████████████| 11.3 MB 5.4 MB/s \n",
            "\u001b[?25hRequirement already satisfied: python-dateutil>=2.7.3 in /usr/local/lib/python3.7/dist-packages (from pandas) (2.8.2)\n",
            "Requirement already satisfied: numpy>=1.17.3 in /usr/local/lib/python3.7/dist-packages (from pandas) (1.19.5)\n",
            "Requirement already satisfied: pytz>=2017.3 in /usr/local/lib/python3.7/dist-packages (from pandas) (2018.9)\n",
            "Requirement already satisfied: six>=1.5 in /usr/local/lib/python3.7/dist-packages (from python-dateutil>=2.7.3->pandas) (1.15.0)\n",
            "Installing collected packages: pandas\n",
            "\u001b[31mERROR: pip's dependency resolver does not currently take into account all the packages that are installed. This behaviour is the source of the following dependency conflicts.\n",
            "google-colab 1.0.0 requires ipykernel~=4.10, but you have ipykernel 6.6.0 which is incompatible.\n",
            "google-colab 1.0.0 requires ipython~=5.5.0, but you have ipython 7.30.1 which is incompatible.\n",
            "google-colab 1.0.0 requires pandas~=1.1.0; python_version >= \"3.0\", but you have pandas 1.3.4 which is incompatible.\u001b[0m\n",
            "Successfully installed pandas-1.3.4\n"
          ]
        },
        {
          "output_type": "display_data",
          "data": {
            "application/vnd.colab-display-data+json": {
              "pip_warning": {
                "packages": [
                  "pandas"
                ]
              }
            }
          },
          "metadata": {}
        }
      ]
    },
    {
      "cell_type": "code",
      "metadata": {
        "colab": {
          "base_uri": "https://localhost:8080/"
        },
        "id": "nPUyQWMU-AFD",
        "outputId": "7d01818d-f70e-4df6-b7b2-37e2d7153b35"
      },
      "source": [
        "\n",
        "! pip3 install --upgrade pandas"
      ],
      "execution_count": null,
      "outputs": [
        {
          "output_type": "stream",
          "name": "stdout",
          "text": [
            "Requirement already satisfied: pandas in /usr/local/lib/python3.7/dist-packages (1.3.4)\n",
            "Requirement already satisfied: pytz>=2017.3 in /usr/local/lib/python3.7/dist-packages (from pandas) (2018.9)\n",
            "Requirement already satisfied: python-dateutil>=2.7.3 in /usr/local/lib/python3.7/dist-packages (from pandas) (2.8.2)\n",
            "Requirement already satisfied: numpy>=1.17.3 in /usr/local/lib/python3.7/dist-packages (from pandas) (1.19.5)\n",
            "Requirement already satisfied: six>=1.5 in /usr/local/lib/python3.7/dist-packages (from python-dateutil>=2.7.3->pandas) (1.15.0)\n"
          ]
        }
      ]
    },
    {
      "cell_type": "code",
      "metadata": {
        "colab": {
          "base_uri": "https://localhost:8080/"
        },
        "id": "UI6dAK4b6Gg8",
        "outputId": "a4ab4700-03f4-4439-dc44-df518b5f8224"
      },
      "source": [
        "\n",
        "%%writefile btc.py\n",
        "import numpy as np\n",
        "import pandas as pd\n",
        "import streamlit as st\n",
        "import datetime\n",
        "import matplotlib.pyplot as plt\n",
        "import seaborn as sns \n",
        "from PIL import Image \n",
        "import joblib\n",
        "#from tensorflow import keras\n",
        "from tensorflow.keras.models import load_model    #  to pickle DL large files\n",
        "\n",
        "from sklearn.preprocessing import MinMaxScaler\n",
        "from tensorflow.keras.models import Sequential\n",
        "from tensorflow.keras.layers import LayerNormalization\n",
        "from tensorflow.keras.layers import LSTM, Dense, Dropout, SimpleRNN\n",
        "from fbprophet import Prophet\n",
        "\n",
        "# python==  3.5 -3.8 arası olmalı \n",
        "# pip install tensorflow==2.2.0 --user command\n",
        "# tqm keras larin basina tensorflow. getir\n",
        "\n",
        "st.image(\"https://encrypted-tbn0.gstatic.com/images?q=tbn:ANd9GcTwXqYkBpAS25PJOPnhlLweUTxnHuy5tMUHZg&usqp=CAU\",width=600, caption=\"Could you guess the price?\")\n",
        "\n",
        "st.header(\" BTC BITCOIN PRICE PREDICTON  \")\n",
        "st.subheader(\" What could be the BTC stock price in market tomorrow?\")\n",
        "\n",
        "\n",
        "datetime.datetime.now()\n",
        "\n",
        "st.image(\"https://encrypted-tbn0.gstatic.com/images?q=tbn:ANd9GcQsa8W_kkvwh9q9YwU_dM_3CQDez_J8NSPytw&usqp=CAU\")\n",
        "st.success(\"For estimation Please choose one of the models below\")\n",
        "\n",
        "if st.checkbox(\"Facebook Prophet\"):\n",
        "    loaded_model = joblib.load('prophet_model.sav')  # load the model from disk\n",
        "    future=loaded_model.make_future_dataframe(periods=1,freq=\"D\")\n",
        "    predicton=loaded_model.predict(future)\n",
        "    guess=predicton[[\"ds\",\"yhat\"]][-1:]\n",
        "    st.table(guess)\n",
        "    result=int(guess.loc[7][1])\n",
        "    st.info(\"Estimated BTC stock price tomorrow is: ${}\".format(int(result)))\n",
        "  \n",
        "  \n",
        "if st.checkbox(\"RNN model\"):\n",
        "    regressor=load_model('RNN_model.h5')          \n",
        "    scaler=joblib.load(\"RNN_scaler\")\n",
        "    df=joblib.load(\"RNN_df\")\n",
        "    df_s = scaler.fit_transform(df)     # df_s : df_scale\n",
        "    X_test=np.array([df_s[-10: ]])   \n",
        "    prediction= regressor.predict(X_test)        #  predicted_stock_price\n",
        "    guess =scaler.inverse_transform(prediction)\n",
        "\n",
        "    st.info(\"Estimated BTC stock price tomorrow is: ${}\".format(int(guess)))\n",
        "   \n",
        "    test= joblib.load(\"RNN_test\") \n",
        "    #test.reset_index(inplace= True, drop = True)\n",
        "    st.table(test.T)\n",
        "    \n",
        "    sns.lineplot( data = test)\n",
        "    \n",
        "    st.write(test)\n",
        "    #chart_data = pd.DataFrame(np.random.randn(20, 3),\n",
        "    # columns=['a', 'b', 'c'])\n",
        "    #st.line_chart(chart_data)\n",
        "\n",
        "    #test_data=pd.DataFrame(test,columns=[\"actual\",\"predicted\"])\n",
        "    #st.line_chart(test_data)\n",
        "# with open('/content/gdrive/MyDrive/DATA_SCIENCE/6. CAPSTONE/Deployment/RNN_df','w') as f:\n",
        "#  f.write('Hello Google drive !')\n",
        "# with open('/content/gdrive/MyDrive/DATA_SCIENCE/6. CAPSTONE/Deployment/RNN_scaler','w') as f:\n",
        "#  f.write('Hello Google drive !')\n",
        "# with open('/content/gdrive/MyDrive/DATA_SCIENCE/6. CAPSTONE/Deployment/RNN_model.h5','w') as f:\n",
        "  f.write('Hello Google drive !')\n",
        "\n"
      ],
      "execution_count": 4,
      "outputs": [
        {
          "output_type": "stream",
          "name": "stdout",
          "text": [
            "Overwriting btc.py\n"
          ]
        }
      ]
    },
    {
      "cell_type": "markdown",
      "metadata": {
        "id": "f5YYmyKK761J"
      },
      "source": [
        "# Deployment "
      ]
    },
    {
      "cell_type": "markdown",
      "source": [
        "[Run Streamlit App on Colab without Ngrok (LocalTunnel)](https://www.youtube.com/watch?v=NEhrkeF2o_M&t=19s)"
      ],
      "metadata": {
        "id": "zxGSWBE6FlPe"
      }
    },
    {
      "cell_type": "code",
      "metadata": {
        "colab": {
          "base_uri": "https://localhost:8080/"
        },
        "id": "JU-i_sh97a-K",
        "outputId": "db1b31d9-f4c0-42ac-a249-14bbcaed307f"
      },
      "source": [
        "! streamlit run btc.py & npx localtunnel --port 8501"
      ],
      "execution_count": 6,
      "outputs": [
        {
          "output_type": "stream",
          "name": "stdout",
          "text": [
            "/bin/bash: streamlit: command not found\n",
            "\u001b[K\u001b[?25hnpx: installed 22 in 3.302s\n",
            "your url is: https://bad-dingo-22.loca.lt\n",
            "^C\n"
          ]
        }
      ]
    },
    {
      "cell_type": "code",
      "metadata": {
        "colab": {
          "base_uri": "https://localhost:8080/"
        },
        "id": "NsnVEKJ2Uk32",
        "outputId": "ee389144-ba76-4f76-dab0-f2f173f37182"
      },
      "source": [
        "from google.colab import drive\n",
        "drive.mount('/content/gdrive')\n",
        "  #change dir to your project folder\n",
        "root_path = 'gdrive/My DriveDATA_SCIENCE/6.CAPSTONE/Deployment/Deployment/RNN_model.h5' \n"
      ],
      "execution_count": 3,
      "outputs": [
        {
          "output_type": "stream",
          "name": "stdout",
          "text": [
            "Mounted at /content/gdrive\n"
          ]
        }
      ]
    },
    {
      "cell_type": "code",
      "metadata": {
        "id": "dYZ2sc_Y7eGr"
      },
      "source": [
        ""
      ],
      "execution_count": null,
      "outputs": []
    },
    {
      "cell_type": "code",
      "metadata": {
        "id": "PkirF3d1EtfD"
      },
      "source": [
        ""
      ],
      "execution_count": null,
      "outputs": []
    },
    {
      "cell_type": "markdown",
      "metadata": {
        "id": "BeEjyHXg7dpL"
      },
      "source": [
        ""
      ]
    },
    {
      "cell_type": "code",
      "metadata": {
        "id": "WMG8yGqoH9EU"
      },
      "source": [
        "pip install pyngrok"
      ],
      "execution_count": null,
      "outputs": []
    },
    {
      "cell_type": "code",
      "metadata": {
        "id": "_nD0HN9WKosY"
      },
      "source": [
        "ls"
      ],
      "execution_count": null,
      "outputs": []
    },
    {
      "cell_type": "code",
      "metadata": {
        "id": "2o650_yBKE6P"
      },
      "source": [
        "!ngrok authtoken XXXXX"
      ],
      "execution_count": null,
      "outputs": []
    },
    {
      "cell_type": "code",
      "metadata": {
        "id": "pnq5V0xZQxik"
      },
      "source": [
        " !ngrok authtoken 21pG6R2KcpqX9GYB8KgfVCtJD3I_6giYhBfpzNYeJP33SLYRp"
      ],
      "execution_count": null,
      "outputs": []
    },
    {
      "cell_type": "code",
      "metadata": {
        "id": "UoIDn28SKZM5"
      },
      "source": [
        "!ngrok"
      ],
      "execution_count": null,
      "outputs": []
    },
    {
      "cell_type": "code",
      "metadata": {
        "id": "YritJmSeFF5s"
      },
      "source": [
        "from pyngrok import ngrok\n",
        "!nohub streamlit run app.py\n",
        "public_url = ngrok.connect(port='8501')\n",
        "public_url  \n"
      ],
      "execution_count": null,
      "outputs": []
    },
    {
      "cell_type": "code",
      "metadata": {
        "id": "6T6tZ92zNNi6"
      },
      "source": [
        "!streamlit run app.py &>/dev/null&"
      ],
      "execution_count": null,
      "outputs": []
    },
    {
      "cell_type": "code",
      "metadata": {
        "id": "43vf3E6uMZEj"
      },
      "source": [
        "# Setup a tunnel to the streamlit port 8501\n",
        "public_url = ngrok.connect(port='8501')\n",
        "public_url"
      ],
      "execution_count": null,
      "outputs": []
    },
    {
      "cell_type": "code",
      "metadata": {
        "id": "2g7KFxjiJH2F"
      },
      "source": [
        ""
      ],
      "execution_count": null,
      "outputs": []
    },
    {
      "cell_type": "code",
      "metadata": {
        "id": "jEOeoCUqJ17W"
      },
      "source": [
        ""
      ],
      "execution_count": null,
      "outputs": []
    },
    {
      "cell_type": "code",
      "metadata": {
        "id": "n8PA18uIJGIJ"
      },
      "source": [
        "  !pgrep streamlit  to shut down the tunnel"
      ],
      "execution_count": null,
      "outputs": []
    },
    {
      "cell_type": "code",
      "metadata": {
        "id": "IdIkDoBgUZtN"
      },
      "source": [
        "kill 445"
      ],
      "execution_count": null,
      "outputs": []
    },
    {
      "cell_type": "code",
      "metadata": {
        "id": "Lh5nyVS1T86L"
      },
      "source": [
        " ngrok.kill()"
      ],
      "execution_count": null,
      "outputs": []
    },
    {
      "cell_type": "code",
      "metadata": {
        "id": "FXMxw8B0T_M8"
      },
      "source": [
        ""
      ],
      "execution_count": null,
      "outputs": []
    }
  ]
}