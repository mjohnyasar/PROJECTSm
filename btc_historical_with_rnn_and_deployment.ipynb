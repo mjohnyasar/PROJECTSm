{
  "nbformat": 4,
  "nbformat_minor": 0,
  "metadata": {
    "kernelspec": {
      "language": "python",
      "display_name": "Python 3",
      "name": "python3"
    },
    "language_info": {
      "name": "python",
      "version": "3.7.12",
      "mimetype": "text/x-python",
      "codemirror_mode": {
        "name": "ipython",
        "version": 3
      },
      "pygments_lexer": "ipython3",
      "nbconvert_exporter": "python",
      "file_extension": ".py"
    },
    "colab": {
      "name": "btc-historical-with-rnn-and-deployment.ipynb",
      "provenance": [],
      "include_colab_link": true
    }
  },
  "cells": [
    {
      "cell_type": "markdown",
      "metadata": {
        "id": "view-in-github",
        "colab_type": "text"
      },
      "source": [
        "<a href=\"https://colab.research.google.com/github/muharremyasar/PROJECTSm/blob/main/btc_historical_with_rnn_and_deployment.ipynb\" target=\"_parent\"><img src=\"https://colab.research.google.com/assets/colab-badge.svg\" alt=\"Open In Colab\"/></a>"
      ]
    },
    {
      "cell_type": "markdown",
      "metadata": {
        "papermill": {
          "duration": 0.050101,
          "end_time": "2021-11-30T07:42:38.883912",
          "exception": false,
          "start_time": "2021-11-30T07:42:38.833811",
          "status": "completed"
        },
        "tags": [],
        "id": "Vm4c8KTVmGim"
      },
      "source": [
        "#  BTC historical with RNN and Deployment"
      ]
    },
    {
      "cell_type": "code",
      "metadata": {
        "papermill": {
          "duration": 6.66994,
          "end_time": "2021-11-30T07:42:45.60298",
          "exception": false,
          "start_time": "2021-11-30T07:42:38.93304",
          "status": "completed"
        },
        "tags": [],
        "execution": {
          "iopub.status.busy": "2021-12-02T13:08:46.733714Z",
          "iopub.execute_input": "2021-12-02T13:08:46.733974Z",
          "iopub.status.idle": "2021-12-02T13:08:46.743945Z",
          "shell.execute_reply.started": "2021-12-02T13:08:46.733944Z",
          "shell.execute_reply": "2021-12-02T13:08:46.743046Z"
        },
        "trusted": true,
        "id": "9IBIQiNTmGiq"
      },
      "source": [
        "\n",
        "import numpy as np\n",
        "import pandas as pd \n",
        "import matplotlib.pyplot as plt\n",
        "import seaborn as sns \n",
        "plt.rcParams[\"figure.figsize\"] = (11,3)\n",
        "sns.set_style(\"whitegrid\")\n",
        "import math\n",
        "from keras.models import Sequential\n",
        "from keras.layers import LSTM, Dense, Dropout, SimpleRNN\n",
        "from sklearn.preprocessing import MinMaxScaler\n",
        "from sklearn.metrics import mean_squared_error\n",
        "from keras.models import load_model    #  to pickle DL large files\n",
        "import warnings\n",
        "warnings.filterwarnings(\"ignore\")\n",
        "pd.set_option('display.float_format', lambda x: '%.1f' % x)\n",
        "\n",
        "import itertools\n",
        "from keras.utils.vis_utils import plot_model\n",
        "from tensorflow.keras.optimizers import RMSprop, Adam, SGD\n",
        "import pickle, joblib\n",
        "\n"
      ],
      "execution_count": 162,
      "outputs": []
    },
    {
      "cell_type": "code",
      "metadata": {
        "papermill": {
          "duration": 0.059559,
          "end_time": "2021-11-30T07:42:45.771559",
          "exception": false,
          "start_time": "2021-11-30T07:42:45.712",
          "status": "completed"
        },
        "tags": [],
        "execution": {
          "iopub.status.busy": "2021-12-02T13:08:46.745311Z",
          "iopub.execute_input": "2021-12-02T13:08:46.745777Z",
          "iopub.status.idle": "2021-12-02T13:08:46.759847Z",
          "shell.execute_reply.started": "2021-12-02T13:08:46.745743Z",
          "shell.execute_reply": "2021-12-02T13:08:46.759086Z"
        },
        "trusted": true,
        "id": "ES1S6TF0mGit"
      },
      "source": [
        "# CODE SECTION\n",
        "from sklearn.metrics import mean_absolute_error, mean_squared_error, r2_score\n",
        "def eval_metrics(actual, pred):\n",
        "    mae = mean_absolute_error(actual, pred)\n",
        "    mse = mean_squared_error(actual, pred)\n",
        "    rmse = np.sqrt(mean_squared_error(actual, pred))\n",
        "    R2_score = r2_score(actual, pred)\n",
        "    print(\"------------------------------------\")\n",
        "    print(f\"R2_score \\t: {R2_score}\")\n",
        "    print(f\"MAE \\t\\t: {mae}\")\n",
        "    print(f\"MSE \\t\\t: {mse}\")\n",
        "    print(f\"RMSE \\t\\t: {rmse}\")\n",
        "def evals_():\n",
        "    print(\"y_train / y_train_pred \")\n",
        "    eval_metrics(y_train, y_train_pred)\n",
        "    print(\"y_test / y_test_pred \")\n",
        "    eval_metrics(y_test, y_test_pred)\n",
        "\n",
        "# Visualising the results\n",
        "def ploty(real,predicted)  :\n",
        "    plt.plot(real,      color = 'red' , label = '  Real Price'     )   # Real Stock price\n",
        "    plt.plot(predicted, color = 'blue', label = '  Predicted Price')\n",
        "    plt.xlabel('Day') ; plt.ylabel(' Price') ; plt.legend()\n",
        "    plt.show()\n",
        "def plot_():\n",
        "    ploty(y_train,y_train_pred)    # TRAIN\n",
        "    ploty(y_test,y_test_pred)       # TEST\n",
        "    \n",
        "def shape_():\n",
        "    print(\"X_train shape:\",X_train.shape, \"\\nX_test shape:\",X_test.shape)\n",
        "    print(\"y_train shape:\",y_train.shape, \"\\ny_test shape:\",y_test.shape)"
      ],
      "execution_count": 163,
      "outputs": []
    },
    {
      "cell_type": "code",
      "metadata": {
        "papermill": {
          "duration": 6.335595,
          "end_time": "2021-11-30T07:42:52.156024",
          "exception": false,
          "start_time": "2021-11-30T07:42:45.820429",
          "status": "completed"
        },
        "tags": [],
        "execution": {
          "iopub.status.busy": "2021-12-02T13:08:46.761805Z",
          "iopub.execute_input": "2021-12-02T13:08:46.762767Z",
          "iopub.status.idle": "2021-12-02T13:08:51.761729Z",
          "shell.execute_reply.started": "2021-12-02T13:08:46.762716Z",
          "shell.execute_reply": "2021-12-02T13:08:51.760649Z"
        },
        "trusted": true,
        "id": "g-N-KA3jmGiu"
      },
      "source": [
        "data = pd.read_csv(\"/content/btc historical data set/bitstampUSD_1-min_data_2012-01-01_to_2021-03-31.csv\")"
      ],
      "execution_count": 164,
      "outputs": []
    },
    {
      "cell_type": "code",
      "metadata": {
        "papermill": {
          "duration": 0.072584,
          "end_time": "2021-11-30T07:42:52.277868",
          "exception": false,
          "start_time": "2021-11-30T07:42:52.205284",
          "status": "completed"
        },
        "tags": [],
        "execution": {
          "iopub.status.busy": "2021-12-02T13:08:51.762962Z",
          "iopub.execute_input": "2021-12-02T13:08:51.763234Z",
          "iopub.status.idle": "2021-12-02T13:08:51.777365Z",
          "shell.execute_reply.started": "2021-12-02T13:08:51.763179Z",
          "shell.execute_reply": "2021-12-02T13:08:51.776457Z"
        },
        "trusted": true,
        "colab": {
          "base_uri": "https://localhost:8080/",
          "height": 206
        },
        "id": "bqtP3d_smGiu",
        "outputId": "43f5d832-4bdc-4441-e89e-070eced366ef"
      },
      "source": [
        "data.head()"
      ],
      "execution_count": 165,
      "outputs": [
        {
          "output_type": "execute_result",
          "data": {
            "text/html": [
              "<div>\n",
              "<style scoped>\n",
              "    .dataframe tbody tr th:only-of-type {\n",
              "        vertical-align: middle;\n",
              "    }\n",
              "\n",
              "    .dataframe tbody tr th {\n",
              "        vertical-align: top;\n",
              "    }\n",
              "\n",
              "    .dataframe thead th {\n",
              "        text-align: right;\n",
              "    }\n",
              "</style>\n",
              "<table border=\"1\" class=\"dataframe\">\n",
              "  <thead>\n",
              "    <tr style=\"text-align: right;\">\n",
              "      <th></th>\n",
              "      <th>Timestamp</th>\n",
              "      <th>Open</th>\n",
              "      <th>High</th>\n",
              "      <th>Low</th>\n",
              "      <th>Close</th>\n",
              "      <th>Volume_(BTC)</th>\n",
              "      <th>Volume_(Currency)</th>\n",
              "      <th>Weighted_Price</th>\n",
              "    </tr>\n",
              "  </thead>\n",
              "  <tbody>\n",
              "    <tr>\n",
              "      <th>0</th>\n",
              "      <td>1325317920</td>\n",
              "      <td>4.4</td>\n",
              "      <td>4.4</td>\n",
              "      <td>4.4</td>\n",
              "      <td>4.4</td>\n",
              "      <td>0.5</td>\n",
              "      <td>2.0</td>\n",
              "      <td>4.4</td>\n",
              "    </tr>\n",
              "    <tr>\n",
              "      <th>1</th>\n",
              "      <td>1325317980</td>\n",
              "      <td>nan</td>\n",
              "      <td>nan</td>\n",
              "      <td>nan</td>\n",
              "      <td>nan</td>\n",
              "      <td>nan</td>\n",
              "      <td>nan</td>\n",
              "      <td>nan</td>\n",
              "    </tr>\n",
              "    <tr>\n",
              "      <th>2</th>\n",
              "      <td>1325318040</td>\n",
              "      <td>nan</td>\n",
              "      <td>nan</td>\n",
              "      <td>nan</td>\n",
              "      <td>nan</td>\n",
              "      <td>nan</td>\n",
              "      <td>nan</td>\n",
              "      <td>nan</td>\n",
              "    </tr>\n",
              "    <tr>\n",
              "      <th>3</th>\n",
              "      <td>1325318100</td>\n",
              "      <td>nan</td>\n",
              "      <td>nan</td>\n",
              "      <td>nan</td>\n",
              "      <td>nan</td>\n",
              "      <td>nan</td>\n",
              "      <td>nan</td>\n",
              "      <td>nan</td>\n",
              "    </tr>\n",
              "    <tr>\n",
              "      <th>4</th>\n",
              "      <td>1325318160</td>\n",
              "      <td>nan</td>\n",
              "      <td>nan</td>\n",
              "      <td>nan</td>\n",
              "      <td>nan</td>\n",
              "      <td>nan</td>\n",
              "      <td>nan</td>\n",
              "      <td>nan</td>\n",
              "    </tr>\n",
              "  </tbody>\n",
              "</table>\n",
              "</div>"
            ],
            "text/plain": [
              "    Timestamp  Open  High  ...  Volume_(BTC)  Volume_(Currency)  Weighted_Price\n",
              "0  1325317920   4.4   4.4  ...           0.5                2.0             4.4\n",
              "1  1325317980   nan   nan  ...           nan                nan             nan\n",
              "2  1325318040   nan   nan  ...           nan                nan             nan\n",
              "3  1325318100   nan   nan  ...           nan                nan             nan\n",
              "4  1325318160   nan   nan  ...           nan                nan             nan\n",
              "\n",
              "[5 rows x 8 columns]"
            ]
          },
          "metadata": {},
          "execution_count": 165
        }
      ]
    },
    {
      "cell_type": "markdown",
      "metadata": {
        "papermill": {
          "duration": 0.049236,
          "end_time": "2021-11-30T07:42:52.377655",
          "exception": false,
          "start_time": "2021-11-30T07:42:52.328419",
          "status": "completed"
        },
        "tags": [],
        "id": "x_O2GMO6mGiu"
      },
      "source": [
        "#### There are many NaN values"
      ]
    },
    {
      "cell_type": "code",
      "metadata": {
        "papermill": {
          "duration": 0.064339,
          "end_time": "2021-11-30T07:42:52.491595",
          "exception": false,
          "start_time": "2021-11-30T07:42:52.427256",
          "status": "completed"
        },
        "tags": [],
        "execution": {
          "iopub.status.busy": "2021-12-02T13:08:51.77868Z",
          "iopub.execute_input": "2021-12-02T13:08:51.778943Z",
          "iopub.status.idle": "2021-12-02T13:08:51.798086Z",
          "shell.execute_reply.started": "2021-12-02T13:08:51.778909Z",
          "shell.execute_reply": "2021-12-02T13:08:51.797228Z"
        },
        "trusted": true,
        "colab": {
          "base_uri": "https://localhost:8080/",
          "height": 206
        },
        "id": "hPhScLwMmGiv",
        "outputId": "b7ae608c-447f-41e4-e858-bdbe36df8287"
      },
      "source": [
        "data.tail()"
      ],
      "execution_count": 166,
      "outputs": [
        {
          "output_type": "execute_result",
          "data": {
            "text/html": [
              "<div>\n",
              "<style scoped>\n",
              "    .dataframe tbody tr th:only-of-type {\n",
              "        vertical-align: middle;\n",
              "    }\n",
              "\n",
              "    .dataframe tbody tr th {\n",
              "        vertical-align: top;\n",
              "    }\n",
              "\n",
              "    .dataframe thead th {\n",
              "        text-align: right;\n",
              "    }\n",
              "</style>\n",
              "<table border=\"1\" class=\"dataframe\">\n",
              "  <thead>\n",
              "    <tr style=\"text-align: right;\">\n",
              "      <th></th>\n",
              "      <th>Timestamp</th>\n",
              "      <th>Open</th>\n",
              "      <th>High</th>\n",
              "      <th>Low</th>\n",
              "      <th>Close</th>\n",
              "      <th>Volume_(BTC)</th>\n",
              "      <th>Volume_(Currency)</th>\n",
              "      <th>Weighted_Price</th>\n",
              "    </tr>\n",
              "  </thead>\n",
              "  <tbody>\n",
              "    <tr>\n",
              "      <th>4857372</th>\n",
              "      <td>1617148560</td>\n",
              "      <td>58714.3</td>\n",
              "      <td>58714.3</td>\n",
              "      <td>58686.0</td>\n",
              "      <td>58686.0</td>\n",
              "      <td>1.4</td>\n",
              "      <td>81259.4</td>\n",
              "      <td>58692.8</td>\n",
              "    </tr>\n",
              "    <tr>\n",
              "      <th>4857373</th>\n",
              "      <td>1617148620</td>\n",
              "      <td>58684.0</td>\n",
              "      <td>58693.4</td>\n",
              "      <td>58684.0</td>\n",
              "      <td>58685.8</td>\n",
              "      <td>7.3</td>\n",
              "      <td>428158.1</td>\n",
              "      <td>58693.2</td>\n",
              "    </tr>\n",
              "    <tr>\n",
              "      <th>4857374</th>\n",
              "      <td>1617148680</td>\n",
              "      <td>58693.4</td>\n",
              "      <td>58723.8</td>\n",
              "      <td>58693.4</td>\n",
              "      <td>58723.8</td>\n",
              "      <td>1.7</td>\n",
              "      <td>100117.1</td>\n",
              "      <td>58696.2</td>\n",
              "    </tr>\n",
              "    <tr>\n",
              "      <th>4857375</th>\n",
              "      <td>1617148740</td>\n",
              "      <td>58742.2</td>\n",
              "      <td>58770.4</td>\n",
              "      <td>58742.2</td>\n",
              "      <td>58760.6</td>\n",
              "      <td>0.7</td>\n",
              "      <td>42333.0</td>\n",
              "      <td>58761.9</td>\n",
              "    </tr>\n",
              "    <tr>\n",
              "      <th>4857376</th>\n",
              "      <td>1617148800</td>\n",
              "      <td>58767.8</td>\n",
              "      <td>58778.2</td>\n",
              "      <td>58756.0</td>\n",
              "      <td>58778.2</td>\n",
              "      <td>2.7</td>\n",
              "      <td>159417.8</td>\n",
              "      <td>58764.3</td>\n",
              "    </tr>\n",
              "  </tbody>\n",
              "</table>\n",
              "</div>"
            ],
            "text/plain": [
              "          Timestamp    Open  ...  Volume_(Currency)  Weighted_Price\n",
              "4857372  1617148560 58714.3  ...            81259.4         58692.8\n",
              "4857373  1617148620 58684.0  ...           428158.1         58693.2\n",
              "4857374  1617148680 58693.4  ...           100117.1         58696.2\n",
              "4857375  1617148740 58742.2  ...            42333.0         58761.9\n",
              "4857376  1617148800 58767.8  ...           159417.8         58764.3\n",
              "\n",
              "[5 rows x 8 columns]"
            ]
          },
          "metadata": {},
          "execution_count": 166
        }
      ]
    },
    {
      "cell_type": "markdown",
      "metadata": {
        "papermill": {
          "duration": 0.049626,
          "end_time": "2021-11-30T07:42:52.591118",
          "exception": false,
          "start_time": "2021-11-30T07:42:52.541492",
          "status": "completed"
        },
        "tags": [],
        "id": "Q-plSiI1mGiv"
      },
      "source": [
        "## Explanation of the features"
      ]
    },
    {
      "cell_type": "code",
      "metadata": {
        "papermill": {
          "duration": 0.075484,
          "end_time": "2021-11-30T07:42:52.717124",
          "exception": false,
          "start_time": "2021-11-30T07:42:52.64164",
          "status": "completed"
        },
        "tags": [],
        "execution": {
          "iopub.status.busy": "2021-12-02T13:08:51.800158Z",
          "iopub.execute_input": "2021-12-02T13:08:51.800962Z",
          "iopub.status.idle": "2021-12-02T13:08:51.816948Z",
          "shell.execute_reply.started": "2021-12-02T13:08:51.800913Z",
          "shell.execute_reply": "2021-12-02T13:08:51.815822Z"
        },
        "trusted": true,
        "colab": {
          "base_uri": "https://localhost:8080/"
        },
        "id": "oF3qhEJ-mGiv",
        "outputId": "1dd5d3a4-be91-4fd0-c29b-a44df4b2515d"
      },
      "source": [
        "data.info()"
      ],
      "execution_count": 167,
      "outputs": [
        {
          "output_type": "stream",
          "name": "stdout",
          "text": [
            "<class 'pandas.core.frame.DataFrame'>\n",
            "RangeIndex: 4857377 entries, 0 to 4857376\n",
            "Data columns (total 8 columns):\n",
            " #   Column             Dtype  \n",
            "---  ------             -----  \n",
            " 0   Timestamp          int64  \n",
            " 1   Open               float64\n",
            " 2   High               float64\n",
            " 3   Low                float64\n",
            " 4   Close              float64\n",
            " 5   Volume_(BTC)       float64\n",
            " 6   Volume_(Currency)  float64\n",
            " 7   Weighted_Price     float64\n",
            "dtypes: float64(7), int64(1)\n",
            "memory usage: 296.5 MB\n"
          ]
        }
      ]
    },
    {
      "cell_type": "markdown",
      "metadata": {
        "papermill": {
          "duration": 0.066017,
          "end_time": "2021-11-30T07:42:52.84364",
          "exception": false,
          "start_time": "2021-11-30T07:42:52.777623",
          "status": "completed"
        },
        "tags": [],
        "id": "lHrvrD0nmGiw"
      },
      "source": [
        "<div>\n",
        "\n",
        "<p>   Timestamp - This is the unix timestamp   Day and Time recorded together in a series\n",
        "<p>   Open - This is the opening price of the time period\n",
        "<p>   High - This is the highest price of the time period\n",
        "<p>   Low - This is the lowest price of the time period\n",
        "<p>   Close - This is the closing price of the time period\n",
        "<p>   Volume (BTC) - This is the volume in BTC\n",
        "<p>   Volume (Curency) - This is the volume in USDT amount\n",
        "<p>   Weighted_Price - This is the weighted price of BTC in USDT\n",
        "\n",
        "</div>\n"
      ]
    },
    {
      "cell_type": "code",
      "metadata": {
        "papermill": {
          "duration": 0.194254,
          "end_time": "2021-11-30T07:42:53.098735",
          "exception": false,
          "start_time": "2021-11-30T07:42:52.904481",
          "status": "completed"
        },
        "tags": [],
        "execution": {
          "iopub.status.busy": "2021-12-02T13:08:51.820441Z",
          "iopub.execute_input": "2021-12-02T13:08:51.820993Z",
          "iopub.status.idle": "2021-12-02T13:08:51.935753Z",
          "shell.execute_reply.started": "2021-12-02T13:08:51.820746Z",
          "shell.execute_reply": "2021-12-02T13:08:51.934755Z"
        },
        "trusted": true,
        "colab": {
          "base_uri": "https://localhost:8080/",
          "height": 175
        },
        "id": "H7mZ8v-qmGiw",
        "outputId": "dabcf379-bd00-4cf4-f20b-cce9748e3e64"
      },
      "source": [
        "# Converting Timestamp value to Date-Time (yy/mm/dd hh:mm:ss)\n",
        "\n",
        "data['Timestamp'] = pd.to_datetime(data['Timestamp'], unit='s')\n",
        "data.head(4)"
      ],
      "execution_count": 168,
      "outputs": [
        {
          "output_type": "execute_result",
          "data": {
            "text/html": [
              "<div>\n",
              "<style scoped>\n",
              "    .dataframe tbody tr th:only-of-type {\n",
              "        vertical-align: middle;\n",
              "    }\n",
              "\n",
              "    .dataframe tbody tr th {\n",
              "        vertical-align: top;\n",
              "    }\n",
              "\n",
              "    .dataframe thead th {\n",
              "        text-align: right;\n",
              "    }\n",
              "</style>\n",
              "<table border=\"1\" class=\"dataframe\">\n",
              "  <thead>\n",
              "    <tr style=\"text-align: right;\">\n",
              "      <th></th>\n",
              "      <th>Timestamp</th>\n",
              "      <th>Open</th>\n",
              "      <th>High</th>\n",
              "      <th>Low</th>\n",
              "      <th>Close</th>\n",
              "      <th>Volume_(BTC)</th>\n",
              "      <th>Volume_(Currency)</th>\n",
              "      <th>Weighted_Price</th>\n",
              "    </tr>\n",
              "  </thead>\n",
              "  <tbody>\n",
              "    <tr>\n",
              "      <th>0</th>\n",
              "      <td>2011-12-31 07:52:00</td>\n",
              "      <td>4.4</td>\n",
              "      <td>4.4</td>\n",
              "      <td>4.4</td>\n",
              "      <td>4.4</td>\n",
              "      <td>0.5</td>\n",
              "      <td>2.0</td>\n",
              "      <td>4.4</td>\n",
              "    </tr>\n",
              "    <tr>\n",
              "      <th>1</th>\n",
              "      <td>2011-12-31 07:53:00</td>\n",
              "      <td>nan</td>\n",
              "      <td>nan</td>\n",
              "      <td>nan</td>\n",
              "      <td>nan</td>\n",
              "      <td>nan</td>\n",
              "      <td>nan</td>\n",
              "      <td>nan</td>\n",
              "    </tr>\n",
              "    <tr>\n",
              "      <th>2</th>\n",
              "      <td>2011-12-31 07:54:00</td>\n",
              "      <td>nan</td>\n",
              "      <td>nan</td>\n",
              "      <td>nan</td>\n",
              "      <td>nan</td>\n",
              "      <td>nan</td>\n",
              "      <td>nan</td>\n",
              "      <td>nan</td>\n",
              "    </tr>\n",
              "    <tr>\n",
              "      <th>3</th>\n",
              "      <td>2011-12-31 07:55:00</td>\n",
              "      <td>nan</td>\n",
              "      <td>nan</td>\n",
              "      <td>nan</td>\n",
              "      <td>nan</td>\n",
              "      <td>nan</td>\n",
              "      <td>nan</td>\n",
              "      <td>nan</td>\n",
              "    </tr>\n",
              "  </tbody>\n",
              "</table>\n",
              "</div>"
            ],
            "text/plain": [
              "            Timestamp  Open  ...  Volume_(Currency)  Weighted_Price\n",
              "0 2011-12-31 07:52:00   4.4  ...                2.0             4.4\n",
              "1 2011-12-31 07:53:00   nan  ...                nan             nan\n",
              "2 2011-12-31 07:54:00   nan  ...                nan             nan\n",
              "3 2011-12-31 07:55:00   nan  ...                nan             nan\n",
              "\n",
              "[4 rows x 8 columns]"
            ]
          },
          "metadata": {},
          "execution_count": 168
        }
      ]
    },
    {
      "cell_type": "markdown",
      "metadata": {
        "papermill": {
          "duration": 0.057595,
          "end_time": "2021-11-30T07:42:53.214511",
          "exception": false,
          "start_time": "2021-11-30T07:42:53.156916",
          "status": "completed"
        },
        "tags": [],
        "id": "WO0UJ6i7mGix"
      },
      "source": [
        "#### It is seen that records are in minutes"
      ]
    },
    {
      "cell_type": "code",
      "metadata": {
        "papermill": {
          "duration": 0.06009,
          "end_time": "2021-11-30T07:42:53.326812",
          "exception": false,
          "start_time": "2021-11-30T07:42:53.266722",
          "status": "completed"
        },
        "tags": [],
        "execution": {
          "iopub.status.busy": "2021-12-02T13:08:51.937554Z",
          "iopub.execute_input": "2021-12-02T13:08:51.937883Z",
          "iopub.status.idle": "2021-12-02T13:08:51.944602Z",
          "shell.execute_reply.started": "2021-12-02T13:08:51.93784Z",
          "shell.execute_reply": "2021-12-02T13:08:51.943666Z"
        },
        "trusted": true,
        "colab": {
          "base_uri": "https://localhost:8080/"
        },
        "id": "s6pfCZv4mGix",
        "outputId": "286aa8e7-b764-42a0-f843-5bddf86408e7"
      },
      "source": [
        "data.shape"
      ],
      "execution_count": 169,
      "outputs": [
        {
          "output_type": "execute_result",
          "data": {
            "text/plain": [
              "(4857377, 8)"
            ]
          },
          "metadata": {},
          "execution_count": 169
        }
      ]
    },
    {
      "cell_type": "markdown",
      "metadata": {
        "papermill": {
          "duration": 0.0513,
          "end_time": "2021-11-30T07:42:53.429623",
          "exception": false,
          "start_time": "2021-11-30T07:42:53.378323",
          "status": "completed"
        },
        "tags": [],
        "id": "86HChSZNmGiy"
      },
      "source": [
        "#### There are 4.8 million records. They are too much to evaluate, it can take days\n",
        "####  So lets decrease it by summing the minutes into day"
      ]
    },
    {
      "cell_type": "code",
      "metadata": {
        "papermill": {
          "duration": 1.554192,
          "end_time": "2021-11-30T07:42:55.036966",
          "exception": false,
          "start_time": "2021-11-30T07:42:53.482774",
          "status": "completed"
        },
        "tags": [],
        "execution": {
          "iopub.status.busy": "2021-12-02T13:08:51.94608Z",
          "iopub.execute_input": "2021-12-02T13:08:51.946661Z",
          "iopub.status.idle": "2021-12-02T13:08:54.563765Z",
          "shell.execute_reply.started": "2021-12-02T13:08:51.946612Z",
          "shell.execute_reply": "2021-12-02T13:08:54.562817Z"
        },
        "trusted": true,
        "colab": {
          "base_uri": "https://localhost:8080/",
          "height": 112
        },
        "id": "ZMzf-PyjmGiy",
        "outputId": "1c2d528c-2a8f-451e-b7a0-cc0db423c9bb"
      },
      "source": [
        "# Make a new column which has only Date value of timestamp\n",
        "data['Date'] = data['Timestamp'].dt.date\n",
        "data.head(2)"
      ],
      "execution_count": 170,
      "outputs": [
        {
          "output_type": "execute_result",
          "data": {
            "text/html": [
              "<div>\n",
              "<style scoped>\n",
              "    .dataframe tbody tr th:only-of-type {\n",
              "        vertical-align: middle;\n",
              "    }\n",
              "\n",
              "    .dataframe tbody tr th {\n",
              "        vertical-align: top;\n",
              "    }\n",
              "\n",
              "    .dataframe thead th {\n",
              "        text-align: right;\n",
              "    }\n",
              "</style>\n",
              "<table border=\"1\" class=\"dataframe\">\n",
              "  <thead>\n",
              "    <tr style=\"text-align: right;\">\n",
              "      <th></th>\n",
              "      <th>Timestamp</th>\n",
              "      <th>Open</th>\n",
              "      <th>High</th>\n",
              "      <th>Low</th>\n",
              "      <th>Close</th>\n",
              "      <th>Volume_(BTC)</th>\n",
              "      <th>Volume_(Currency)</th>\n",
              "      <th>Weighted_Price</th>\n",
              "      <th>Date</th>\n",
              "    </tr>\n",
              "  </thead>\n",
              "  <tbody>\n",
              "    <tr>\n",
              "      <th>0</th>\n",
              "      <td>2011-12-31 07:52:00</td>\n",
              "      <td>4.4</td>\n",
              "      <td>4.4</td>\n",
              "      <td>4.4</td>\n",
              "      <td>4.4</td>\n",
              "      <td>0.5</td>\n",
              "      <td>2.0</td>\n",
              "      <td>4.4</td>\n",
              "      <td>2011-12-31</td>\n",
              "    </tr>\n",
              "    <tr>\n",
              "      <th>1</th>\n",
              "      <td>2011-12-31 07:53:00</td>\n",
              "      <td>nan</td>\n",
              "      <td>nan</td>\n",
              "      <td>nan</td>\n",
              "      <td>nan</td>\n",
              "      <td>nan</td>\n",
              "      <td>nan</td>\n",
              "      <td>nan</td>\n",
              "      <td>2011-12-31</td>\n",
              "    </tr>\n",
              "  </tbody>\n",
              "</table>\n",
              "</div>"
            ],
            "text/plain": [
              "            Timestamp  Open  ...  Weighted_Price        Date\n",
              "0 2011-12-31 07:52:00   4.4  ...             4.4  2011-12-31\n",
              "1 2011-12-31 07:53:00   nan  ...             nan  2011-12-31\n",
              "\n",
              "[2 rows x 9 columns]"
            ]
          },
          "metadata": {},
          "execution_count": 170
        }
      ]
    },
    {
      "cell_type": "code",
      "metadata": {
        "papermill": {
          "duration": 0.746887,
          "end_time": "2021-11-30T07:42:55.835105",
          "exception": false,
          "start_time": "2021-11-30T07:42:55.088218",
          "status": "completed"
        },
        "tags": [],
        "execution": {
          "iopub.status.busy": "2021-12-02T13:08:54.565087Z",
          "iopub.execute_input": "2021-12-02T13:08:54.565361Z",
          "iopub.status.idle": "2021-12-02T13:08:55.913407Z",
          "shell.execute_reply.started": "2021-12-02T13:08:54.565329Z",
          "shell.execute_reply": "2021-12-02T13:08:55.912233Z"
        },
        "trusted": true,
        "colab": {
          "base_uri": "https://localhost:8080/",
          "height": 143
        },
        "id": "9BP5_sFrmGiy",
        "outputId": "068ea9d1-ec0c-453e-fd4d-4fbce14706da"
      },
      "source": [
        "data_day=data.groupby(\"Date\").mean()    # it takes the mean of the dataset \n",
        "data_day.head(2)                      # now the columns are   in daily"
      ],
      "execution_count": 171,
      "outputs": [
        {
          "output_type": "execute_result",
          "data": {
            "text/html": [
              "<div>\n",
              "<style scoped>\n",
              "    .dataframe tbody tr th:only-of-type {\n",
              "        vertical-align: middle;\n",
              "    }\n",
              "\n",
              "    .dataframe tbody tr th {\n",
              "        vertical-align: top;\n",
              "    }\n",
              "\n",
              "    .dataframe thead th {\n",
              "        text-align: right;\n",
              "    }\n",
              "</style>\n",
              "<table border=\"1\" class=\"dataframe\">\n",
              "  <thead>\n",
              "    <tr style=\"text-align: right;\">\n",
              "      <th></th>\n",
              "      <th>Open</th>\n",
              "      <th>High</th>\n",
              "      <th>Low</th>\n",
              "      <th>Close</th>\n",
              "      <th>Volume_(BTC)</th>\n",
              "      <th>Volume_(Currency)</th>\n",
              "      <th>Weighted_Price</th>\n",
              "    </tr>\n",
              "    <tr>\n",
              "      <th>Date</th>\n",
              "      <th></th>\n",
              "      <th></th>\n",
              "      <th></th>\n",
              "      <th></th>\n",
              "      <th></th>\n",
              "      <th></th>\n",
              "      <th></th>\n",
              "    </tr>\n",
              "  </thead>\n",
              "  <tbody>\n",
              "    <tr>\n",
              "      <th>2011-12-31</th>\n",
              "      <td>4.5</td>\n",
              "      <td>4.5</td>\n",
              "      <td>4.5</td>\n",
              "      <td>4.5</td>\n",
              "      <td>23.8</td>\n",
              "      <td>106.3</td>\n",
              "      <td>4.5</td>\n",
              "    </tr>\n",
              "    <tr>\n",
              "      <th>2012-01-01</th>\n",
              "      <td>4.8</td>\n",
              "      <td>4.8</td>\n",
              "      <td>4.8</td>\n",
              "      <td>4.8</td>\n",
              "      <td>7.2</td>\n",
              "      <td>35.3</td>\n",
              "      <td>4.8</td>\n",
              "    </tr>\n",
              "  </tbody>\n",
              "</table>\n",
              "</div>"
            ],
            "text/plain": [
              "            Open  High  Low  ...  Volume_(BTC)  Volume_(Currency)  Weighted_Price\n",
              "Date                         ...                                                 \n",
              "2011-12-31   4.5   4.5  4.5  ...          23.8              106.3             4.5\n",
              "2012-01-01   4.8   4.8  4.8  ...           7.2               35.3             4.8\n",
              "\n",
              "[2 rows x 7 columns]"
            ]
          },
          "metadata": {},
          "execution_count": 171
        }
      ]
    },
    {
      "cell_type": "code",
      "metadata": {
        "papermill": {
          "duration": 0.066756,
          "end_time": "2021-11-30T07:42:55.954466",
          "exception": false,
          "start_time": "2021-11-30T07:42:55.88771",
          "status": "completed"
        },
        "tags": [],
        "execution": {
          "iopub.status.busy": "2021-12-02T13:08:55.91525Z",
          "iopub.execute_input": "2021-12-02T13:08:55.915514Z",
          "iopub.status.idle": "2021-12-02T13:08:55.932635Z",
          "shell.execute_reply.started": "2021-12-02T13:08:55.915484Z",
          "shell.execute_reply": "2021-12-02T13:08:55.931492Z"
        },
        "trusted": true,
        "colab": {
          "base_uri": "https://localhost:8080/",
          "height": 143
        },
        "id": "cB5t91pKmGiz",
        "outputId": "f1916083-fd83-4294-972b-7123112fb4cd"
      },
      "source": [
        "data_day.tail(2)"
      ],
      "execution_count": 172,
      "outputs": [
        {
          "output_type": "execute_result",
          "data": {
            "text/html": [
              "<div>\n",
              "<style scoped>\n",
              "    .dataframe tbody tr th:only-of-type {\n",
              "        vertical-align: middle;\n",
              "    }\n",
              "\n",
              "    .dataframe tbody tr th {\n",
              "        vertical-align: top;\n",
              "    }\n",
              "\n",
              "    .dataframe thead th {\n",
              "        text-align: right;\n",
              "    }\n",
              "</style>\n",
              "<table border=\"1\" class=\"dataframe\">\n",
              "  <thead>\n",
              "    <tr style=\"text-align: right;\">\n",
              "      <th></th>\n",
              "      <th>Open</th>\n",
              "      <th>High</th>\n",
              "      <th>Low</th>\n",
              "      <th>Close</th>\n",
              "      <th>Volume_(BTC)</th>\n",
              "      <th>Volume_(Currency)</th>\n",
              "      <th>Weighted_Price</th>\n",
              "    </tr>\n",
              "    <tr>\n",
              "      <th>Date</th>\n",
              "      <th></th>\n",
              "      <th></th>\n",
              "      <th></th>\n",
              "      <th></th>\n",
              "      <th></th>\n",
              "      <th></th>\n",
              "      <th></th>\n",
              "    </tr>\n",
              "  </thead>\n",
              "  <tbody>\n",
              "    <tr>\n",
              "      <th>2021-03-30</th>\n",
              "      <td>58347.8</td>\n",
              "      <td>58372.0</td>\n",
              "      <td>58324.0</td>\n",
              "      <td>58349.4</td>\n",
              "      <td>2.4</td>\n",
              "      <td>138231.2</td>\n",
              "      <td>58346.9</td>\n",
              "    </tr>\n",
              "    <tr>\n",
              "      <th>2021-03-31</th>\n",
              "      <td>58767.8</td>\n",
              "      <td>58778.2</td>\n",
              "      <td>58756.0</td>\n",
              "      <td>58778.2</td>\n",
              "      <td>2.7</td>\n",
              "      <td>159417.8</td>\n",
              "      <td>58764.3</td>\n",
              "    </tr>\n",
              "  </tbody>\n",
              "</table>\n",
              "</div>"
            ],
            "text/plain": [
              "              Open    High  ...  Volume_(Currency)  Weighted_Price\n",
              "Date                        ...                                   \n",
              "2021-03-30 58347.8 58372.0  ...           138231.2         58346.9\n",
              "2021-03-31 58767.8 58778.2  ...           159417.8         58764.3\n",
              "\n",
              "[2 rows x 7 columns]"
            ]
          },
          "metadata": {},
          "execution_count": 172
        }
      ]
    },
    {
      "cell_type": "code",
      "metadata": {
        "papermill": {
          "duration": 0.060604,
          "end_time": "2021-11-30T07:42:56.067423",
          "exception": false,
          "start_time": "2021-11-30T07:42:56.006819",
          "status": "completed"
        },
        "tags": [],
        "execution": {
          "iopub.status.busy": "2021-12-02T13:08:55.934593Z",
          "iopub.execute_input": "2021-12-02T13:08:55.934923Z",
          "iopub.status.idle": "2021-12-02T13:08:55.942277Z",
          "shell.execute_reply.started": "2021-12-02T13:08:55.934878Z",
          "shell.execute_reply": "2021-12-02T13:08:55.941127Z"
        },
        "trusted": true,
        "colab": {
          "base_uri": "https://localhost:8080/"
        },
        "id": "QGlFFDLgmGi0",
        "outputId": "b5d0127b-f643-49ff-9142-39d1813db49e"
      },
      "source": [
        "len(data_day)"
      ],
      "execution_count": 173,
      "outputs": [
        {
          "output_type": "execute_result",
          "data": {
            "text/plain": [
              "3376"
            ]
          },
          "metadata": {},
          "execution_count": 173
        }
      ]
    },
    {
      "cell_type": "markdown",
      "metadata": {
        "papermill": {
          "duration": 0.052051,
          "end_time": "2021-11-30T07:42:56.172247",
          "exception": false,
          "start_time": "2021-11-30T07:42:56.120196",
          "status": "completed"
        },
        "tags": [],
        "id": "uF_HNJu6mGi0"
      },
      "source": [
        "The number of records now more practical"
      ]
    },
    {
      "cell_type": "code",
      "metadata": {
        "papermill": {
          "duration": 1.048393,
          "end_time": "2021-11-30T07:42:57.272902",
          "exception": false,
          "start_time": "2021-11-30T07:42:56.224509",
          "status": "completed"
        },
        "tags": [],
        "execution": {
          "iopub.status.busy": "2021-12-02T13:08:55.944179Z",
          "iopub.execute_input": "2021-12-02T13:08:55.944483Z",
          "iopub.status.idle": "2021-12-02T13:08:56.986161Z",
          "shell.execute_reply.started": "2021-12-02T13:08:55.94445Z",
          "shell.execute_reply": "2021-12-02T13:08:56.98554Z"
        },
        "trusted": true,
        "colab": {
          "base_uri": "https://localhost:8080/",
          "height": 269
        },
        "id": "GlokQXkCmGi2",
        "outputId": "f122dbf1-a7e1-4990-a309-20e393039e0b"
      },
      "source": [
        "data.corr()*100"
      ],
      "execution_count": 174,
      "outputs": [
        {
          "output_type": "execute_result",
          "data": {
            "text/html": [
              "<div>\n",
              "<style scoped>\n",
              "    .dataframe tbody tr th:only-of-type {\n",
              "        vertical-align: middle;\n",
              "    }\n",
              "\n",
              "    .dataframe tbody tr th {\n",
              "        vertical-align: top;\n",
              "    }\n",
              "\n",
              "    .dataframe thead th {\n",
              "        text-align: right;\n",
              "    }\n",
              "</style>\n",
              "<table border=\"1\" class=\"dataframe\">\n",
              "  <thead>\n",
              "    <tr style=\"text-align: right;\">\n",
              "      <th></th>\n",
              "      <th>Open</th>\n",
              "      <th>High</th>\n",
              "      <th>Low</th>\n",
              "      <th>Close</th>\n",
              "      <th>Volume_(BTC)</th>\n",
              "      <th>Volume_(Currency)</th>\n",
              "      <th>Weighted_Price</th>\n",
              "    </tr>\n",
              "  </thead>\n",
              "  <tbody>\n",
              "    <tr>\n",
              "      <th>Open</th>\n",
              "      <td>100.0</td>\n",
              "      <td>100.0</td>\n",
              "      <td>100.0</td>\n",
              "      <td>100.0</td>\n",
              "      <td>-5.2</td>\n",
              "      <td>34.4</td>\n",
              "      <td>100.0</td>\n",
              "    </tr>\n",
              "    <tr>\n",
              "      <th>High</th>\n",
              "      <td>100.0</td>\n",
              "      <td>100.0</td>\n",
              "      <td>100.0</td>\n",
              "      <td>100.0</td>\n",
              "      <td>-5.2</td>\n",
              "      <td>34.4</td>\n",
              "      <td>100.0</td>\n",
              "    </tr>\n",
              "    <tr>\n",
              "      <th>Low</th>\n",
              "      <td>100.0</td>\n",
              "      <td>100.0</td>\n",
              "      <td>100.0</td>\n",
              "      <td>100.0</td>\n",
              "      <td>-5.2</td>\n",
              "      <td>34.4</td>\n",
              "      <td>100.0</td>\n",
              "    </tr>\n",
              "    <tr>\n",
              "      <th>Close</th>\n",
              "      <td>100.0</td>\n",
              "      <td>100.0</td>\n",
              "      <td>100.0</td>\n",
              "      <td>100.0</td>\n",
              "      <td>-5.2</td>\n",
              "      <td>34.4</td>\n",
              "      <td>100.0</td>\n",
              "    </tr>\n",
              "    <tr>\n",
              "      <th>Volume_(BTC)</th>\n",
              "      <td>-5.2</td>\n",
              "      <td>-5.2</td>\n",
              "      <td>-5.2</td>\n",
              "      <td>-5.2</td>\n",
              "      <td>100.0</td>\n",
              "      <td>35.2</td>\n",
              "      <td>-5.2</td>\n",
              "    </tr>\n",
              "    <tr>\n",
              "      <th>Volume_(Currency)</th>\n",
              "      <td>34.4</td>\n",
              "      <td>34.4</td>\n",
              "      <td>34.4</td>\n",
              "      <td>34.4</td>\n",
              "      <td>35.2</td>\n",
              "      <td>100.0</td>\n",
              "      <td>34.4</td>\n",
              "    </tr>\n",
              "    <tr>\n",
              "      <th>Weighted_Price</th>\n",
              "      <td>100.0</td>\n",
              "      <td>100.0</td>\n",
              "      <td>100.0</td>\n",
              "      <td>100.0</td>\n",
              "      <td>-5.2</td>\n",
              "      <td>34.4</td>\n",
              "      <td>100.0</td>\n",
              "    </tr>\n",
              "  </tbody>\n",
              "</table>\n",
              "</div>"
            ],
            "text/plain": [
              "                   Open  High  ...  Volume_(Currency)  Weighted_Price\n",
              "Open              100.0 100.0  ...               34.4           100.0\n",
              "High              100.0 100.0  ...               34.4           100.0\n",
              "Low               100.0 100.0  ...               34.4           100.0\n",
              "Close             100.0 100.0  ...               34.4           100.0\n",
              "Volume_(BTC)       -5.2  -5.2  ...               35.2            -5.2\n",
              "Volume_(Currency)  34.4  34.4  ...              100.0            34.4\n",
              "Weighted_Price    100.0 100.0  ...               34.4           100.0\n",
              "\n",
              "[7 rows x 7 columns]"
            ]
          },
          "metadata": {},
          "execution_count": 174
        }
      ]
    },
    {
      "cell_type": "code",
      "metadata": {
        "papermill": {
          "duration": 0.069101,
          "end_time": "2021-11-30T07:42:57.396613",
          "exception": false,
          "start_time": "2021-11-30T07:42:57.327512",
          "status": "completed"
        },
        "tags": [],
        "execution": {
          "iopub.status.busy": "2021-12-02T13:08:56.9876Z",
          "iopub.execute_input": "2021-12-02T13:08:56.987865Z",
          "iopub.status.idle": "2021-12-02T13:08:57.005188Z",
          "shell.execute_reply.started": "2021-12-02T13:08:56.987833Z",
          "shell.execute_reply": "2021-12-02T13:08:57.002461Z"
        },
        "trusted": true,
        "colab": {
          "base_uri": "https://localhost:8080/",
          "height": 269
        },
        "id": "kVbcBW9UmGi3",
        "outputId": "51670d53-fd75-420f-896e-77c2b4e83f48"
      },
      "source": [
        "data_day.corr()*100"
      ],
      "execution_count": 175,
      "outputs": [
        {
          "output_type": "execute_result",
          "data": {
            "text/html": [
              "<div>\n",
              "<style scoped>\n",
              "    .dataframe tbody tr th:only-of-type {\n",
              "        vertical-align: middle;\n",
              "    }\n",
              "\n",
              "    .dataframe tbody tr th {\n",
              "        vertical-align: top;\n",
              "    }\n",
              "\n",
              "    .dataframe thead th {\n",
              "        text-align: right;\n",
              "    }\n",
              "</style>\n",
              "<table border=\"1\" class=\"dataframe\">\n",
              "  <thead>\n",
              "    <tr style=\"text-align: right;\">\n",
              "      <th></th>\n",
              "      <th>Open</th>\n",
              "      <th>High</th>\n",
              "      <th>Low</th>\n",
              "      <th>Close</th>\n",
              "      <th>Volume_(BTC)</th>\n",
              "      <th>Volume_(Currency)</th>\n",
              "      <th>Weighted_Price</th>\n",
              "    </tr>\n",
              "  </thead>\n",
              "  <tbody>\n",
              "    <tr>\n",
              "      <th>Open</th>\n",
              "      <td>100.0</td>\n",
              "      <td>100.0</td>\n",
              "      <td>100.0</td>\n",
              "      <td>100.0</td>\n",
              "      <td>-21.7</td>\n",
              "      <td>76.7</td>\n",
              "      <td>100.0</td>\n",
              "    </tr>\n",
              "    <tr>\n",
              "      <th>High</th>\n",
              "      <td>100.0</td>\n",
              "      <td>100.0</td>\n",
              "      <td>100.0</td>\n",
              "      <td>100.0</td>\n",
              "      <td>-21.7</td>\n",
              "      <td>76.7</td>\n",
              "      <td>100.0</td>\n",
              "    </tr>\n",
              "    <tr>\n",
              "      <th>Low</th>\n",
              "      <td>100.0</td>\n",
              "      <td>100.0</td>\n",
              "      <td>100.0</td>\n",
              "      <td>100.0</td>\n",
              "      <td>-21.7</td>\n",
              "      <td>76.7</td>\n",
              "      <td>100.0</td>\n",
              "    </tr>\n",
              "    <tr>\n",
              "      <th>Close</th>\n",
              "      <td>100.0</td>\n",
              "      <td>100.0</td>\n",
              "      <td>100.0</td>\n",
              "      <td>100.0</td>\n",
              "      <td>-21.7</td>\n",
              "      <td>76.7</td>\n",
              "      <td>100.0</td>\n",
              "    </tr>\n",
              "    <tr>\n",
              "      <th>Volume_(BTC)</th>\n",
              "      <td>-21.7</td>\n",
              "      <td>-21.7</td>\n",
              "      <td>-21.7</td>\n",
              "      <td>-21.7</td>\n",
              "      <td>100.0</td>\n",
              "      <td>1.7</td>\n",
              "      <td>-21.7</td>\n",
              "    </tr>\n",
              "    <tr>\n",
              "      <th>Volume_(Currency)</th>\n",
              "      <td>76.7</td>\n",
              "      <td>76.7</td>\n",
              "      <td>76.7</td>\n",
              "      <td>76.7</td>\n",
              "      <td>1.7</td>\n",
              "      <td>100.0</td>\n",
              "      <td>76.7</td>\n",
              "    </tr>\n",
              "    <tr>\n",
              "      <th>Weighted_Price</th>\n",
              "      <td>100.0</td>\n",
              "      <td>100.0</td>\n",
              "      <td>100.0</td>\n",
              "      <td>100.0</td>\n",
              "      <td>-21.7</td>\n",
              "      <td>76.7</td>\n",
              "      <td>100.0</td>\n",
              "    </tr>\n",
              "  </tbody>\n",
              "</table>\n",
              "</div>"
            ],
            "text/plain": [
              "                   Open  High  ...  Volume_(Currency)  Weighted_Price\n",
              "Open              100.0 100.0  ...               76.7           100.0\n",
              "High              100.0 100.0  ...               76.7           100.0\n",
              "Low               100.0 100.0  ...               76.7           100.0\n",
              "Close             100.0 100.0  ...               76.7           100.0\n",
              "Volume_(BTC)      -21.7 -21.7  ...                1.7           -21.7\n",
              "Volume_(Currency)  76.7  76.7  ...              100.0            76.7\n",
              "Weighted_Price    100.0 100.0  ...               76.7           100.0\n",
              "\n",
              "[7 rows x 7 columns]"
            ]
          },
          "metadata": {},
          "execution_count": 175
        }
      ]
    },
    {
      "cell_type": "markdown",
      "metadata": {
        "papermill": {
          "duration": 0.054416,
          "end_time": "2021-11-30T07:42:57.504772",
          "exception": false,
          "start_time": "2021-11-30T07:42:57.450356",
          "status": "completed"
        },
        "tags": [],
        "id": "wIQXM3msmGi3"
      },
      "source": [
        "data_day correlation increased !"
      ]
    },
    {
      "cell_type": "code",
      "metadata": {
        "papermill": {
          "duration": 0.062583,
          "end_time": "2021-11-30T07:42:57.622544",
          "exception": false,
          "start_time": "2021-11-30T07:42:57.559961",
          "status": "completed"
        },
        "tags": [],
        "execution": {
          "iopub.status.busy": "2021-12-02T13:08:57.006535Z",
          "iopub.execute_input": "2021-12-02T13:08:57.007159Z",
          "iopub.status.idle": "2021-12-02T13:08:57.011888Z",
          "shell.execute_reply.started": "2021-12-02T13:08:57.0071Z",
          "shell.execute_reply": "2021-12-02T13:08:57.011142Z"
        },
        "trusted": true,
        "id": "f-CGsdFpmGi4"
      },
      "source": [
        "# Rename the column names to getrid off () paranthesis\n",
        "\n",
        "data_day.rename(columns={'Volume_(BTC)': 'Volume_BTC', 'Volume_(Currency)': 'Volume_Currency'}, inplace=True)"
      ],
      "execution_count": 176,
      "outputs": []
    },
    {
      "cell_type": "code",
      "metadata": {
        "papermill": {
          "duration": 0.061984,
          "end_time": "2021-11-30T07:42:57.738365",
          "exception": false,
          "start_time": "2021-11-30T07:42:57.676381",
          "status": "completed"
        },
        "tags": [],
        "execution": {
          "iopub.status.busy": "2021-12-02T13:08:57.013029Z",
          "iopub.execute_input": "2021-12-02T13:08:57.01406Z",
          "iopub.status.idle": "2021-12-02T13:08:57.03319Z",
          "shell.execute_reply.started": "2021-12-02T13:08:57.014005Z",
          "shell.execute_reply": "2021-12-02T13:08:57.032158Z"
        },
        "trusted": true,
        "colab": {
          "base_uri": "https://localhost:8080/"
        },
        "id": "U_RBDzPxmGi4",
        "outputId": "6e8a1459-b6be-410f-913d-5b2cd124328e"
      },
      "source": [
        "fn=list(data_day.columns)\n",
        "fn"
      ],
      "execution_count": 177,
      "outputs": [
        {
          "output_type": "execute_result",
          "data": {
            "text/plain": [
              "['Open',\n",
              " 'High',\n",
              " 'Low',\n",
              " 'Close',\n",
              " 'Volume_BTC',\n",
              " 'Volume_Currency',\n",
              " 'Weighted_Price']"
            ]
          },
          "metadata": {},
          "execution_count": 177
        }
      ]
    },
    {
      "cell_type": "code",
      "metadata": {
        "papermill": {
          "duration": 0.538388,
          "end_time": "2021-11-30T07:42:58.331527",
          "exception": false,
          "start_time": "2021-11-30T07:42:57.793139",
          "status": "completed"
        },
        "tags": [],
        "execution": {
          "iopub.status.busy": "2021-12-02T13:08:57.034754Z",
          "iopub.execute_input": "2021-12-02T13:08:57.035373Z",
          "iopub.status.idle": "2021-12-02T13:08:57.608238Z",
          "shell.execute_reply.started": "2021-12-02T13:08:57.035318Z",
          "shell.execute_reply": "2021-12-02T13:08:57.607264Z"
        },
        "trusted": true,
        "colab": {
          "base_uri": "https://localhost:8080/",
          "height": 329
        },
        "id": "s4hdkX74mGi5",
        "outputId": "e1aa2569-81bb-4d84-be10-fac3c7b4d812"
      },
      "source": [
        "f,ax = plt.subplots(figsize=(9, 4))\n",
        "sns.heatmap(data_day.corr(), annot=True, linewidths=5, fmt= '.1f',ax=ax)\n",
        "plt.xticks(rotation= 45) \n",
        "plt.show()"
      ],
      "execution_count": 178,
      "outputs": [
        {
          "output_type": "display_data",
          "data": {
            "image/png": "[encoded data removed]",
            "text/plain": [
              "<Figure size 648x288 with 2 Axes>"
            ]
          },
          "metadata": {}
        }
      ]
    },
    {
      "cell_type": "markdown",
      "metadata": {
        "papermill": {
          "duration": 0.054686,
          "end_time": "2021-11-30T07:42:58.44077",
          "exception": false,
          "start_time": "2021-11-30T07:42:58.386084",
          "status": "completed"
        },
        "tags": [],
        "id": "DNz_6DmWmGi5"
      },
      "source": [
        "#### Weighted_Price has a full relation with Open, High and Low"
      ]
    },
    {
      "cell_type": "markdown",
      "metadata": {
        "papermill": {
          "duration": 0.054767,
          "end_time": "2021-11-30T07:42:58.551456",
          "exception": false,
          "start_time": "2021-11-30T07:42:58.496689",
          "status": "completed"
        },
        "tags": [],
        "id": "nhx8vYL0mGi5"
      },
      "source": [
        "#### We only will use Weighted_Price column  \n",
        "(any of the high correlation feautures as Open, High, Low, Close can be used)"
      ]
    },
    {
      "cell_type": "code",
      "metadata": {
        "papermill": {
          "duration": 0.064457,
          "end_time": "2021-11-30T07:42:58.670847",
          "exception": false,
          "start_time": "2021-11-30T07:42:58.60639",
          "status": "completed"
        },
        "tags": [],
        "execution": {
          "iopub.status.busy": "2021-12-02T13:08:57.612696Z",
          "iopub.execute_input": "2021-12-02T13:08:57.613308Z",
          "iopub.status.idle": "2021-12-02T13:08:57.623618Z",
          "shell.execute_reply.started": "2021-12-02T13:08:57.613269Z",
          "shell.execute_reply": "2021-12-02T13:08:57.622638Z"
        },
        "trusted": true,
        "colab": {
          "base_uri": "https://localhost:8080/"
        },
        "id": "kSkv1ee4mGi5",
        "outputId": "58ac99aa-a8bf-4a75-d6b0-e46965acc3f2"
      },
      "source": [
        "df=data_day.Weighted_Price\n",
        "df"
      ],
      "execution_count": 179,
      "outputs": [
        {
          "output_type": "execute_result",
          "data": {
            "text/plain": [
              "Date\n",
              "2011-12-31       4.5\n",
              "2012-01-01       4.8\n",
              "2012-01-02       5.0\n",
              "2012-01-03       5.3\n",
              "2012-01-04       5.2\n",
              "               ...  \n",
              "2021-03-27   55193.4\n",
              "2021-03-28   55833.0\n",
              "2021-03-29   56914.0\n",
              "2021-03-30   58346.9\n",
              "2021-03-31   58764.3\n",
              "Name: Weighted_Price, Length: 3376, dtype: float64"
            ]
          },
          "metadata": {},
          "execution_count": 179
        }
      ]
    },
    {
      "cell_type": "code",
      "metadata": {
        "papermill": {
          "duration": 0.460824,
          "end_time": "2021-11-30T07:42:59.186648",
          "exception": false,
          "start_time": "2021-11-30T07:42:58.725824",
          "status": "completed"
        },
        "tags": [],
        "execution": {
          "iopub.status.busy": "2021-12-02T13:08:57.625009Z",
          "iopub.execute_input": "2021-12-02T13:08:57.625845Z",
          "iopub.status.idle": "2021-12-02T13:08:58.287657Z",
          "shell.execute_reply.started": "2021-12-02T13:08:57.625796Z",
          "shell.execute_reply": "2021-12-02T13:08:58.286469Z"
        },
        "trusted": true,
        "colab": {
          "base_uri": "https://localhost:8080/",
          "height": 0
        },
        "id": "NtLYujUqmGi6",
        "outputId": "686b9dff-f1c0-49d3-9d0a-d6e1c619401e"
      },
      "source": [
        "# Line Plot\n",
        "plt.figure(figsize=(12, 5))\n",
        "df.plot( grid=True) # color = \"b\",kind = \"line\",  linewidth=1,  alpha=1,linestyle=\":\"\n",
        "plt.xlabel(\"Time (Year)\")            # label = name of the x axis\n",
        "plt.ylabel(\"Weighted BTC Price\")            # label = name of the y axis\n",
        "plt.title(\"Line Plot for Weighted_Price\")          # title = Title of the Plot\n",
        "plt.tight_layout()\n",
        "plt.show()"
      ],
      "execution_count": 180,
      "outputs": [
        {
          "output_type": "display_data",
          "data": {
            "image/png": "[encoded data removed]",
            "text/plain": [
              "<Figure size 864x360 with 1 Axes>"
            ]
          },
          "metadata": {}
        }
      ]
    },
    {
      "cell_type": "code",
      "metadata": {
        "papermill": {
          "duration": 0.364183,
          "end_time": "2021-11-30T07:42:59.607219",
          "exception": false,
          "start_time": "2021-11-30T07:42:59.243036",
          "status": "completed"
        },
        "tags": [],
        "execution": {
          "iopub.status.busy": "2021-12-02T13:08:58.289118Z",
          "iopub.execute_input": "2021-12-02T13:08:58.289466Z",
          "iopub.status.idle": "2021-12-02T13:08:58.629475Z",
          "shell.execute_reply.started": "2021-12-02T13:08:58.289423Z",
          "shell.execute_reply": "2021-12-02T13:08:58.628423Z"
        },
        "trusted": true,
        "colab": {
          "base_uri": "https://localhost:8080/",
          "height": 0
        },
        "id": "cgqyNeIUmGi6",
        "outputId": "6b0fd563-a187-4a5b-8adb-1c5e5f834021"
      },
      "source": [
        "# Scatter Plot\n",
        "data_day.plot(kind=\"scatter\", x=\"Weighted_Price\", y=\"Volume_Currency\", alpha=0.5 )\n",
        "plt.xlabel(\"Weighted_Price\")\n",
        "plt.ylabel(\"Volume_Currency\")\n",
        "plt.title(\"Weighted_Price vs Volume_Currency Scatter Plot\")\n",
        "#plt.show()"
      ],
      "execution_count": 181,
      "outputs": [
        {
          "output_type": "execute_result",
          "data": {
            "text/plain": [
              "Text(0.5, 1.0, 'Weighted_Price vs Volume_Currency Scatter Plot')"
            ]
          },
          "metadata": {},
          "execution_count": 181
        },
        {
          "output_type": "display_data",
          "data": {
            "image/png": "[encoded data removed]",
            "text/plain": [
              "<Figure size 792x216 with 1 Axes>"
            ]
          },
          "metadata": {}
        }
      ]
    },
    {
      "cell_type": "markdown",
      "metadata": {
        "papermill": {
          "duration": 0.059521,
          "end_time": "2021-11-30T07:42:59.724867",
          "exception": false,
          "start_time": "2021-11-30T07:42:59.665346",
          "status": "completed"
        },
        "tags": [],
        "id": "VI1PwSzumGi6"
      },
      "source": [
        "## Visulazations\n"
      ]
    },
    {
      "cell_type": "code",
      "metadata": {
        "papermill": {
          "duration": 0.063753,
          "end_time": "2021-11-30T07:42:59.851323",
          "exception": false,
          "start_time": "2021-11-30T07:42:59.78757",
          "status": "completed"
        },
        "tags": [],
        "execution": {
          "iopub.status.busy": "2021-12-02T13:08:58.631255Z",
          "iopub.execute_input": "2021-12-02T13:08:58.631598Z",
          "iopub.status.idle": "2021-12-02T13:08:58.636835Z",
          "shell.execute_reply.started": "2021-12-02T13:08:58.631552Z",
          "shell.execute_reply": "2021-12-02T13:08:58.63571Z"
        },
        "trusted": true,
        "id": "M5TuvnxTmGi6"
      },
      "source": [
        "#sns.pairplot(data_day)"
      ],
      "execution_count": 182,
      "outputs": []
    },
    {
      "cell_type": "code",
      "metadata": {
        "papermill": {
          "duration": 0.367303,
          "end_time": "2021-11-30T07:43:00.276167",
          "exception": false,
          "start_time": "2021-11-30T07:42:59.908864",
          "status": "completed"
        },
        "tags": [],
        "execution": {
          "iopub.status.busy": "2021-12-02T13:08:58.638411Z",
          "iopub.execute_input": "2021-12-02T13:08:58.638934Z",
          "iopub.status.idle": "2021-12-02T13:08:59.463049Z",
          "shell.execute_reply.started": "2021-12-02T13:08:58.638884Z",
          "shell.execute_reply": "2021-12-02T13:08:59.462399Z"
        },
        "trusted": true,
        "colab": {
          "base_uri": "https://localhost:8080/",
          "height": 259
        },
        "id": "hmnLGEkbmGi7",
        "outputId": "33e0c6b0-8ec1-4809-8d5f-bd92daf217c6"
      },
      "source": [
        "# Scatter Plot\n",
        "data_day.plot(kind=\"scatter\", x=\"Weighted_Price\", y=\"Volume_BTC\", alpha=0.5 )\n",
        "plt.xlabel(\"Weighted_Price\")\n",
        "plt.ylabel(\"Volume_BTC\")\n",
        "plt.title(\"Weighted_Price vs Volume_Currency Scatter Plot\")\n",
        "#plt.show()"
      ],
      "execution_count": 183,
      "outputs": [
        {
          "output_type": "execute_result",
          "data": {
            "text/plain": [
              "Text(0.5, 1.0, 'Weighted_Price vs Volume_Currency Scatter Plot')"
            ]
          },
          "metadata": {},
          "execution_count": 183
        },
        {
          "output_type": "display_data",
          "data": {
            "image/png": "[encoded data removed]",
            "text/plain": [
              "<Figure size 792x216 with 1 Axes>"
            ]
          },
          "metadata": {}
        }
      ]
    },
    {
      "cell_type": "markdown",
      "metadata": {
        "papermill": {
          "duration": 0.058721,
          "end_time": "2021-11-30T07:43:00.394706",
          "exception": false,
          "start_time": "2021-11-30T07:43:00.335985",
          "status": "completed"
        },
        "tags": [],
        "id": "U3c38Kb7mGi7"
      },
      "source": [
        "#### inverse proportion between VolumeBTC and Price.  When price increase, volume decrease."
      ]
    },
    {
      "cell_type": "code",
      "metadata": {
        "papermill": {
          "duration": 2.125696,
          "end_time": "2021-11-30T07:43:02.580678",
          "exception": false,
          "start_time": "2021-11-30T07:43:00.454982",
          "status": "completed"
        },
        "tags": [],
        "execution": {
          "iopub.status.busy": "2021-12-02T13:08:59.464313Z",
          "iopub.execute_input": "2021-12-02T13:08:59.46465Z",
          "iopub.status.idle": "2021-12-02T13:09:01.848843Z",
          "shell.execute_reply.started": "2021-12-02T13:08:59.464621Z",
          "shell.execute_reply": "2021-12-02T13:09:01.847884Z"
        },
        "trusted": true,
        "colab": {
          "base_uri": "https://localhost:8080/",
          "height": 0
        },
        "id": "PBmWbNbumGi7",
        "outputId": "0b7799c1-9939-42c9-dbda-0e8dd6f9e6dd"
      },
      "source": [
        "for h in fn: # fn: feautere names\n",
        "    plt.figure(figsize=(11,2))\n",
        "    plt.hist( data_day[h],bins = 50) ; plt.ylabel(\"Frequency\") \n",
        "    plt.title(\"{} _hist distribution\".format(h))\n",
        "    plt.show()"
      ],
      "execution_count": 184,
      "outputs": [
        {
          "output_type": "display_data",
          "data": {
            "image/png": "[encoded data removed]",
            "text/plain": [
              "<Figure size 792x144 with 1 Axes>"
            ]
          },
          "metadata": {}
        },
        {
          "output_type": "display_data",
          "data": {
            "image/png": "[encoded data removed]",
            "text/plain": [
              "<Figure size 792x144 with 1 Axes>"
            ]
          },
          "metadata": {}
        },
        {
          "output_type": "display_data",
          "data": {
            "image/png": "[encoded data removed]",
            "text/plain": [
              "<Figure size 792x144 with 1 Axes>"
            ]
          },
          "metadata": {}
        },
        {
          "output_type": "display_data",
          "data": {
            "image/png": "[encoded data removed]",
            "text/plain": [
              "<Figure size 792x144 with 1 Axes>"
            ]
          },
          "metadata": {}
        },
        {
          "output_type": "display_data",
          "data": {
            "image/png": "[encoded data removed]",
            "text/plain": [
              "<Figure size 792x144 with 1 Axes>"
            ]
          },
          "metadata": {}
        },
        {
          "output_type": "display_data",
          "data": {
            "image/png": "[encoded data removed]",
            "text/plain": [
              "<Figure size 792x144 with 1 Axes>"
            ]
          },
          "metadata": {}
        },
        {
          "output_type": "display_data",
          "data": {
            "image/png": "[encoded data removed]",
            "text/plain": [
              "<Figure size 792x144 with 1 Axes>"
            ]
          },
          "metadata": {}
        }
      ]
    },
    {
      "cell_type": "markdown",
      "metadata": {
        "papermill": {
          "duration": 0.064899,
          "end_time": "2021-11-30T07:43:02.709901",
          "exception": false,
          "start_time": "2021-11-30T07:43:02.645002",
          "status": "completed"
        },
        "tags": [],
        "id": "L5jFCruymGi7"
      },
      "source": [
        "There are many ZERO or near ZERO records even in Weighted_Price "
      ]
    },
    {
      "cell_type": "code",
      "metadata": {
        "papermill": {
          "duration": 0.094563,
          "end_time": "2021-11-30T07:43:02.868488",
          "exception": false,
          "start_time": "2021-11-30T07:43:02.773925",
          "status": "completed"
        },
        "tags": [],
        "execution": {
          "iopub.status.busy": "2021-12-02T13:09:01.850385Z",
          "iopub.execute_input": "2021-12-02T13:09:01.850994Z",
          "iopub.status.idle": "2021-12-02T13:09:01.887757Z",
          "shell.execute_reply.started": "2021-12-02T13:09:01.850945Z",
          "shell.execute_reply": "2021-12-02T13:09:01.886711Z"
        },
        "trusted": true,
        "colab": {
          "base_uri": "https://localhost:8080/",
          "height": 0
        },
        "id": "5hv_DkkxmGi8",
        "outputId": "243bddcf-39a2-4a98-866a-673daf82456e"
      },
      "source": [
        "data_day.describe().T"
      ],
      "execution_count": 185,
      "outputs": [
        {
          "output_type": "execute_result",
          "data": {
            "text/html": [
              "<div>\n",
              "<style scoped>\n",
              "    .dataframe tbody tr th:only-of-type {\n",
              "        vertical-align: middle;\n",
              "    }\n",
              "\n",
              "    .dataframe tbody tr th {\n",
              "        vertical-align: top;\n",
              "    }\n",
              "\n",
              "    .dataframe thead th {\n",
              "        text-align: right;\n",
              "    }\n",
              "</style>\n",
              "<table border=\"1\" class=\"dataframe\">\n",
              "  <thead>\n",
              "    <tr style=\"text-align: right;\">\n",
              "      <th></th>\n",
              "      <th>count</th>\n",
              "      <th>mean</th>\n",
              "      <th>std</th>\n",
              "      <th>min</th>\n",
              "      <th>25%</th>\n",
              "      <th>50%</th>\n",
              "      <th>75%</th>\n",
              "      <th>max</th>\n",
              "    </tr>\n",
              "  </thead>\n",
              "  <tbody>\n",
              "    <tr>\n",
              "      <th>Open</th>\n",
              "      <td>3376.0</td>\n",
              "      <td>4605.6</td>\n",
              "      <td>8207.3</td>\n",
              "      <td>4.3</td>\n",
              "      <td>245.0</td>\n",
              "      <td>698.0</td>\n",
              "      <td>7242.7</td>\n",
              "      <td>60458.3</td>\n",
              "    </tr>\n",
              "    <tr>\n",
              "      <th>High</th>\n",
              "      <td>3376.0</td>\n",
              "      <td>4608.9</td>\n",
              "      <td>8213.8</td>\n",
              "      <td>4.3</td>\n",
              "      <td>245.0</td>\n",
              "      <td>698.2</td>\n",
              "      <td>7248.2</td>\n",
              "      <td>60488.9</td>\n",
              "    </tr>\n",
              "    <tr>\n",
              "      <th>Low</th>\n",
              "      <td>3376.0</td>\n",
              "      <td>4602.2</td>\n",
              "      <td>8200.6</td>\n",
              "      <td>4.3</td>\n",
              "      <td>244.9</td>\n",
              "      <td>697.7</td>\n",
              "      <td>7238.0</td>\n",
              "      <td>60426.4</td>\n",
              "    </tr>\n",
              "    <tr>\n",
              "      <th>Close</th>\n",
              "      <td>3376.0</td>\n",
              "      <td>4605.6</td>\n",
              "      <td>8207.4</td>\n",
              "      <td>4.3</td>\n",
              "      <td>245.0</td>\n",
              "      <td>697.9</td>\n",
              "      <td>7242.4</td>\n",
              "      <td>60458.9</td>\n",
              "    </tr>\n",
              "    <tr>\n",
              "      <th>Volume_BTC</th>\n",
              "      <td>3376.0</td>\n",
              "      <td>10.4</td>\n",
              "      <td>8.9</td>\n",
              "      <td>0.2</td>\n",
              "      <td>4.7</td>\n",
              "      <td>7.6</td>\n",
              "      <td>13.1</td>\n",
              "      <td>119.5</td>\n",
              "    </tr>\n",
              "    <tr>\n",
              "      <th>Volume_Currency</th>\n",
              "      <td>3376.0</td>\n",
              "      <td>31790.8</td>\n",
              "      <td>62754.0</td>\n",
              "      <td>1.2</td>\n",
              "      <td>1916.2</td>\n",
              "      <td>6832.0</td>\n",
              "      <td>36074.5</td>\n",
              "      <td>950995.6</td>\n",
              "    </tr>\n",
              "    <tr>\n",
              "      <th>Weighted_Price</th>\n",
              "      <td>3376.0</td>\n",
              "      <td>4605.6</td>\n",
              "      <td>8207.0</td>\n",
              "      <td>4.3</td>\n",
              "      <td>245.0</td>\n",
              "      <td>697.9</td>\n",
              "      <td>7242.9</td>\n",
              "      <td>60455.8</td>\n",
              "    </tr>\n",
              "  </tbody>\n",
              "</table>\n",
              "</div>"
            ],
            "text/plain": [
              "                 count    mean     std  min    25%    50%     75%      max\n",
              "Open            3376.0  4605.6  8207.3  4.3  245.0  698.0  7242.7  60458.3\n",
              "High            3376.0  4608.9  8213.8  4.3  245.0  698.2  7248.2  60488.9\n",
              "Low             3376.0  4602.2  8200.6  4.3  244.9  697.7  7238.0  60426.4\n",
              "Close           3376.0  4605.6  8207.4  4.3  245.0  697.9  7242.4  60458.9\n",
              "Volume_BTC      3376.0    10.4     8.9  0.2    4.7    7.6    13.1    119.5\n",
              "Volume_Currency 3376.0 31790.8 62754.0  1.2 1916.2 6832.0 36074.5 950995.6\n",
              "Weighted_Price  3376.0  4605.6  8207.0  4.3  245.0  697.9  7242.9  60455.8"
            ]
          },
          "metadata": {},
          "execution_count": 185
        }
      ]
    },
    {
      "cell_type": "markdown",
      "metadata": {
        "papermill": {
          "duration": 0.064664,
          "end_time": "2021-11-30T07:43:02.997046",
          "exception": false,
          "start_time": "2021-11-30T07:43:02.932382",
          "status": "completed"
        },
        "tags": [],
        "id": "2pFgsCYPmGi8"
      },
      "source": [
        "#### There are No ZERO values in Weihted_Price feuture as it is seen above.\n",
        "Then it can show that there maybe  NaN values Let's check."
      ]
    },
    {
      "cell_type": "markdown",
      "metadata": {
        "papermill": {
          "duration": 0.064238,
          "end_time": "2021-11-30T07:43:03.124837",
          "exception": false,
          "start_time": "2021-11-30T07:43:03.060599",
          "status": "completed"
        },
        "tags": [],
        "id": "Sr3YZAgsmGi8"
      },
      "source": [
        "## EDA"
      ]
    },
    {
      "cell_type": "code",
      "metadata": {
        "papermill": {
          "duration": 0.074835,
          "end_time": "2021-11-30T07:43:03.263968",
          "exception": false,
          "start_time": "2021-11-30T07:43:03.189133",
          "status": "completed"
        },
        "tags": [],
        "execution": {
          "iopub.status.busy": "2021-12-02T13:09:01.88899Z",
          "iopub.execute_input": "2021-12-02T13:09:01.88933Z",
          "iopub.status.idle": "2021-12-02T13:09:01.897836Z",
          "shell.execute_reply.started": "2021-12-02T13:09:01.889295Z",
          "shell.execute_reply": "2021-12-02T13:09:01.896888Z"
        },
        "trusted": true,
        "colab": {
          "base_uri": "https://localhost:8080/"
        },
        "id": "Gajf2EqimGi8",
        "outputId": "7a347507-c2e7-4cb1-ed34-67d0277957c1"
      },
      "source": [
        "data_day.isnull().sum()  # Get the number of missing data in each feauture"
      ],
      "execution_count": 186,
      "outputs": [
        {
          "output_type": "execute_result",
          "data": {
            "text/plain": [
              "Open               0\n",
              "High               0\n",
              "Low                0\n",
              "Close              0\n",
              "Volume_BTC         0\n",
              "Volume_Currency    0\n",
              "Weighted_Price     0\n",
              "dtype: int64"
            ]
          },
          "metadata": {},
          "execution_count": 186
        }
      ]
    },
    {
      "cell_type": "code",
      "metadata": {
        "papermill": {
          "duration": 0.074523,
          "end_time": "2021-11-30T07:43:03.404053",
          "exception": false,
          "start_time": "2021-11-30T07:43:03.32953",
          "status": "completed"
        },
        "tags": [],
        "execution": {
          "iopub.status.busy": "2021-12-02T13:09:01.898851Z",
          "iopub.execute_input": "2021-12-02T13:09:01.899576Z",
          "iopub.status.idle": "2021-12-02T13:09:01.915029Z",
          "shell.execute_reply.started": "2021-12-02T13:09:01.899524Z",
          "shell.execute_reply": "2021-12-02T13:09:01.913826Z"
        },
        "trusted": true,
        "colab": {
          "base_uri": "https://localhost:8080/"
        },
        "id": "ADuP5mGImGi9",
        "outputId": "fff9bda0-260e-4377-8865-0e6f026a693f"
      },
      "source": [
        "data_day.isnull().sum().sum()  # Get the number of missing data in each feauture"
      ],
      "execution_count": 187,
      "outputs": [
        {
          "output_type": "execute_result",
          "data": {
            "text/plain": [
              "0"
            ]
          },
          "metadata": {},
          "execution_count": 187
        }
      ]
    },
    {
      "cell_type": "markdown",
      "metadata": {
        "papermill": {
          "duration": 0.066065,
          "end_time": "2021-11-30T07:43:03.534839",
          "exception": false,
          "start_time": "2021-11-30T07:43:03.468774",
          "status": "completed"
        },
        "tags": [],
        "id": "b49IV9VDmGjB"
      },
      "source": [
        "There is no NaN values ( all disappered when merging minutes into day )\n",
        "#### It means that all these are \" nearest to the Zero\" values are because of they are very small values.\n",
        "(for a long time from BTC's early days it has been very low priced)\n",
        "\n"
      ]
    },
    {
      "cell_type": "code",
      "metadata": {
        "papermill": {
          "duration": 0.073847,
          "end_time": "2021-11-30T07:43:03.674941",
          "exception": false,
          "start_time": "2021-11-30T07:43:03.601094",
          "status": "completed"
        },
        "tags": [],
        "execution": {
          "iopub.status.busy": "2021-12-02T13:09:01.916892Z",
          "iopub.execute_input": "2021-12-02T13:09:01.91767Z",
          "iopub.status.idle": "2021-12-02T13:09:01.928715Z",
          "shell.execute_reply.started": "2021-12-02T13:09:01.917621Z",
          "shell.execute_reply": "2021-12-02T13:09:01.927943Z"
        },
        "trusted": true,
        "colab": {
          "base_uri": "https://localhost:8080/"
        },
        "id": "cfi6WOAimGjB",
        "outputId": "e21f834c-f430-4437-de49-ad6128bc6c67"
      },
      "source": [
        "data_last=data_day[int(len(data_day)*0.66):]  # The last 1/3 part of the dataset\n",
        "len(data_last)"
      ],
      "execution_count": 188,
      "outputs": [
        {
          "output_type": "execute_result",
          "data": {
            "text/plain": [
              "1148"
            ]
          },
          "metadata": {},
          "execution_count": 188
        }
      ]
    },
    {
      "cell_type": "code",
      "metadata": {
        "papermill": {
          "duration": 2.469346,
          "end_time": "2021-11-30T07:43:06.215132",
          "exception": false,
          "start_time": "2021-11-30T07:43:03.745786",
          "status": "completed"
        },
        "tags": [],
        "_kg_hide-output": false,
        "execution": {
          "iopub.status.busy": "2021-12-02T13:09:01.929979Z",
          "iopub.execute_input": "2021-12-02T13:09:01.93051Z",
          "iopub.status.idle": "2021-12-02T13:09:04.366557Z",
          "shell.execute_reply.started": "2021-12-02T13:09:01.930471Z",
          "shell.execute_reply": "2021-12-02T13:09:04.365478Z"
        },
        "trusted": true,
        "colab": {
          "base_uri": "https://localhost:8080/",
          "height": 0
        },
        "id": "hNTIkbyImGjB",
        "outputId": "4fcb7c29-d431-4b09-c4a2-ff20b53cb247"
      },
      "source": [
        "for h in fn: # fn: feautere names\n",
        "    plt.hist( data_last[h],bins = 50) ; plt.ylabel(\"Frequency\") \n",
        "    plt.title(\"{} _hist distribution\".format(h))\n",
        "    plt.show()"
      ],
      "execution_count": 189,
      "outputs": [
        {
          "output_type": "display_data",
          "data": {
            "image/png": "[encoded data removed]",
            "text/plain": [
              "<Figure size 792x216 with 1 Axes>"
            ]
          },
          "metadata": {}
        },
        {
          "output_type": "display_data",
          "data": {
            "image/png": "[encoded data removed]",
            "text/plain": [
              "<Figure size 792x216 with 1 Axes>"
            ]
          },
          "metadata": {}
        },
        {
          "output_type": "display_data",
          "data": {
            "image/png": "[encoded data removed]",
            "text/plain": [
              "<Figure size 792x216 with 1 Axes>"
            ]
          },
          "metadata": {}
        },
        {
          "output_type": "display_data",
          "data": {
            "image/png": "[encoded data removed]",
            "text/plain": [
              "<Figure size 792x216 with 1 Axes>"
            ]
          },
          "metadata": {}
        },
        {
          "output_type": "display_data",
          "data": {
            "image/png": "[encoded data removed]",
            "text/plain": [
              "<Figure size 792x216 with 1 Axes>"
            ]
          },
          "metadata": {}
        },
        {
          "output_type": "display_data",
          "data": {
            "image/png": "[encoded data removed]",
            "text/plain": [
              "<Figure size 792x216 with 1 Axes>"
            ]
          },
          "metadata": {}
        },
        {
          "output_type": "display_data",
          "data": {
            "image/png": "[encoded data removed]",
            "text/plain": [
              "<Figure size 792x216 with 1 Axes>"
            ]
          },
          "metadata": {}
        }
      ]
    },
    {
      "cell_type": "markdown",
      "metadata": {
        "papermill": {
          "duration": 0.068766,
          "end_time": "2021-11-30T07:43:06.352709",
          "exception": false,
          "start_time": "2021-11-30T07:43:06.283943",
          "status": "completed"
        },
        "tags": [],
        "id": "R5fkyMdEmGjB"
      },
      "source": [
        ""
      ]
    },
    {
      "cell_type": "markdown",
      "metadata": {
        "papermill": {
          "duration": 0.068599,
          "end_time": "2021-11-30T07:43:06.489921",
          "exception": false,
          "start_time": "2021-11-30T07:43:06.421322",
          "status": "completed"
        },
        "tags": [],
        "id": "1s5Ix2oXmGjB"
      },
      "source": [
        "# RNN:Recurrent Neural Network"
      ]
    },
    {
      "cell_type": "markdown",
      "metadata": {
        "papermill": {
          "duration": 0.06839,
          "end_time": "2021-11-30T07:43:06.628125",
          "exception": false,
          "start_time": "2021-11-30T07:43:06.559735",
          "status": "completed"
        },
        "tags": [],
        "id": "Cm7gAt11mGjC"
      },
      "source": [
        "## Prepare Data for RNN"
      ]
    },
    {
      "cell_type": "code",
      "metadata": {
        "papermill": {
          "duration": 0.075807,
          "end_time": "2021-11-30T07:43:06.772585",
          "exception": false,
          "start_time": "2021-11-30T07:43:06.696778",
          "status": "completed"
        },
        "tags": [],
        "execution": {
          "iopub.status.busy": "2021-12-02T13:09:04.367908Z",
          "iopub.execute_input": "2021-12-02T13:09:04.368159Z",
          "iopub.status.idle": "2021-12-02T13:09:04.37302Z",
          "shell.execute_reply.started": "2021-12-02T13:09:04.368119Z",
          "shell.execute_reply": "2021-12-02T13:09:04.372041Z"
        },
        "trusted": true,
        "id": "DZMip6LxmGjC"
      },
      "source": [
        "#df=df.values"
      ],
      "execution_count": 190,
      "outputs": []
    },
    {
      "cell_type": "code",
      "metadata": {
        "papermill": {
          "duration": 0.075771,
          "end_time": "2021-11-30T07:43:06.917215",
          "exception": false,
          "start_time": "2021-11-30T07:43:06.841444",
          "status": "completed"
        },
        "tags": [],
        "execution": {
          "iopub.status.busy": "2021-12-02T13:09:04.374644Z",
          "iopub.execute_input": "2021-12-02T13:09:04.374927Z",
          "iopub.status.idle": "2021-12-02T13:09:04.387324Z",
          "shell.execute_reply.started": "2021-12-02T13:09:04.374894Z",
          "shell.execute_reply": "2021-12-02T13:09:04.386051Z"
        },
        "trusted": true,
        "id": "rTFxe7IlmGjC"
      },
      "source": [
        "# Defining the  TRAIN and TEST part of the dataset\n",
        "\n",
        "test_days=30   \n",
        "train=df[:-test_days]               # the days before the last 30 days\n",
        "test=df[len(df)-test_days:]         # the last 30 days"
      ],
      "execution_count": 191,
      "outputs": []
    },
    {
      "cell_type": "code",
      "metadata": {
        "papermill": {
          "duration": 0.077579,
          "end_time": "2021-11-30T07:43:07.063538",
          "exception": false,
          "start_time": "2021-11-30T07:43:06.985959",
          "status": "completed"
        },
        "tags": [],
        "execution": {
          "iopub.status.busy": "2021-12-02T13:09:04.389079Z",
          "iopub.execute_input": "2021-12-02T13:09:04.389593Z",
          "iopub.status.idle": "2021-12-02T13:09:04.405933Z",
          "shell.execute_reply.started": "2021-12-02T13:09:04.389555Z",
          "shell.execute_reply": "2021-12-02T13:09:04.404945Z"
        },
        "trusted": true,
        "colab": {
          "base_uri": "https://localhost:8080/"
        },
        "id": "xMVD951bmGjC",
        "outputId": "1cd6f7df-d1f2-4484-db6b-d79401b63d28"
      },
      "source": [
        "print(\"Train length:\",len(train), \"\\nTest length:\",len(test))"
      ],
      "execution_count": 192,
      "outputs": [
        {
          "output_type": "stream",
          "name": "stdout",
          "text": [
            "Train length: 3346 \n",
            "Test length: 30\n"
          ]
        }
      ]
    },
    {
      "cell_type": "code",
      "metadata": {
        "papermill": {
          "duration": 0.300546,
          "end_time": "2021-11-30T07:43:07.435723",
          "exception": false,
          "start_time": "2021-11-30T07:43:07.135177",
          "status": "completed"
        },
        "tags": [],
        "execution": {
          "iopub.status.busy": "2021-12-02T13:09:04.407535Z",
          "iopub.execute_input": "2021-12-02T13:09:04.407974Z",
          "iopub.status.idle": "2021-12-02T13:09:04.676564Z",
          "shell.execute_reply.started": "2021-12-02T13:09:04.407927Z",
          "shell.execute_reply": "2021-12-02T13:09:04.675372Z"
        },
        "trusted": true,
        "colab": {
          "base_uri": "https://localhost:8080/",
          "height": 211
        },
        "id": "Wr4tWk8AmGjC",
        "outputId": "72ede972-2608-48ee-8432-d17d86fb8629"
      },
      "source": [
        "plt.plot(train)\n",
        "plt.show()"
      ],
      "execution_count": 193,
      "outputs": [
        {
          "output_type": "display_data",
          "data": {
            "image/png": "[encoded data removed]",
            "text/plain": [
              "<Figure size 792x216 with 1 Axes>"
            ]
          },
          "metadata": {}
        }
      ]
    },
    {
      "cell_type": "code",
      "metadata": {
        "papermill": {
          "duration": 0.304022,
          "end_time": "2021-11-30T07:43:07.812263",
          "exception": false,
          "start_time": "2021-11-30T07:43:07.508241",
          "status": "completed"
        },
        "tags": [],
        "execution": {
          "iopub.status.busy": "2021-12-02T13:09:04.678013Z",
          "iopub.execute_input": "2021-12-02T13:09:04.678715Z",
          "iopub.status.idle": "2021-12-02T13:09:04.936136Z",
          "shell.execute_reply.started": "2021-12-02T13:09:04.678675Z",
          "shell.execute_reply": "2021-12-02T13:09:04.93516Z"
        },
        "trusted": true,
        "colab": {
          "base_uri": "https://localhost:8080/",
          "height": 211
        },
        "id": "6wNUuQ4jmGjD",
        "outputId": "102707e6-966a-4143-cada-320309829adb"
      },
      "source": [
        "plt.plot(test)\n",
        "plt.show()"
      ],
      "execution_count": 194,
      "outputs": [
        {
          "output_type": "display_data",
          "data": {
            "image/png": "[encoded data removed]",
            "text/plain": [
              "<Figure size 792x216 with 1 Axes>"
            ]
          },
          "metadata": {}
        }
      ]
    },
    {
      "cell_type": "code",
      "metadata": {
        "papermill": {
          "duration": 0.083922,
          "end_time": "2021-11-30T07:43:07.968819",
          "exception": false,
          "start_time": "2021-11-30T07:43:07.884897",
          "status": "completed"
        },
        "tags": [],
        "execution": {
          "iopub.status.busy": "2021-12-02T13:09:04.937311Z",
          "iopub.execute_input": "2021-12-02T13:09:04.937534Z",
          "iopub.status.idle": "2021-12-02T13:09:04.943974Z",
          "shell.execute_reply.started": "2021-12-02T13:09:04.937507Z",
          "shell.execute_reply": "2021-12-02T13:09:04.943364Z"
        },
        "trusted": true,
        "colab": {
          "base_uri": "https://localhost:8080/"
        },
        "id": "16bI5i2cmGjD",
        "outputId": "009c4eee-ef31-4f0b-ac84-84d72a489d24"
      },
      "source": [
        "df=pd.DataFrame(data_day.Weighted_Price)\n",
        "df.shape"
      ],
      "execution_count": 195,
      "outputs": [
        {
          "output_type": "execute_result",
          "data": {
            "text/plain": [
              "(3376, 1)"
            ]
          },
          "metadata": {},
          "execution_count": 195
        }
      ]
    },
    {
      "cell_type": "code",
      "metadata": {
        "papermill": {
          "duration": 0.078637,
          "end_time": "2021-11-30T07:43:08.124821",
          "exception": false,
          "start_time": "2021-11-30T07:43:08.046184",
          "status": "completed"
        },
        "tags": [],
        "execution": {
          "iopub.status.busy": "2021-12-02T13:09:04.94511Z",
          "iopub.execute_input": "2021-12-02T13:09:04.945581Z",
          "iopub.status.idle": "2021-12-02T13:09:04.95605Z",
          "shell.execute_reply.started": "2021-12-02T13:09:04.945544Z",
          "shell.execute_reply": "2021-12-02T13:09:04.955331Z"
        },
        "trusted": true,
        "id": "b-CYl1zCmGjD"
      },
      "source": [
        "#df=np.array(data_day.Weighted_Price).reshape(-1,1)\n",
        "#df.shape"
      ],
      "execution_count": 196,
      "outputs": []
    },
    {
      "cell_type": "code",
      "metadata": {
        "papermill": {
          "duration": 0.083379,
          "end_time": "2021-11-30T07:43:08.279571",
          "exception": false,
          "start_time": "2021-11-30T07:43:08.196192",
          "status": "completed"
        },
        "tags": [],
        "execution": {
          "iopub.status.busy": "2021-12-02T13:09:04.957239Z",
          "iopub.execute_input": "2021-12-02T13:09:04.95773Z",
          "iopub.status.idle": "2021-12-02T13:09:04.978024Z",
          "shell.execute_reply.started": "2021-12-02T13:09:04.957692Z",
          "shell.execute_reply": "2021-12-02T13:09:04.976956Z"
        },
        "trusted": true,
        "id": "x7eKz99rmGjD"
      },
      "source": [
        "# Feature Scaling\n",
        "from sklearn.preprocessing import MinMaxScaler\n",
        "scaler = MinMaxScaler()\n",
        "df_s = scaler.fit_transform(df)     # df_s : df_scaled\n",
        " \n"
      ],
      "execution_count": 197,
      "outputs": []
    },
    {
      "cell_type": "code",
      "metadata": {
        "papermill": {
          "duration": 0.079696,
          "end_time": "2021-11-30T07:43:08.430496",
          "exception": false,
          "start_time": "2021-11-30T07:43:08.3508",
          "status": "completed"
        },
        "tags": [],
        "execution": {
          "iopub.status.busy": "2021-12-02T13:09:04.980691Z",
          "iopub.execute_input": "2021-12-02T13:09:04.981599Z",
          "iopub.status.idle": "2021-12-02T13:09:04.989338Z",
          "shell.execute_reply.started": "2021-12-02T13:09:04.981556Z",
          "shell.execute_reply": "2021-12-02T13:09:04.988468Z"
        },
        "trusted": true,
        "colab": {
          "base_uri": "https://localhost:8080/"
        },
        "id": "b9C9TA01mGjE",
        "outputId": "56e3fcb1-024c-46d9-cf09-53e6fe441be2"
      },
      "source": [
        "print(\"Max:\",df_s.max(),\"\\tMin:\",df_s.min())"
      ],
      "execution_count": 198,
      "outputs": [
        {
          "output_type": "stream",
          "name": "stdout",
          "text": [
            "Max: 0.9999999999999999 \tMin: 0.0\n"
          ]
        }
      ]
    },
    {
      "cell_type": "markdown",
      "metadata": {
        "papermill": {
          "duration": 4.519885,
          "end_time": "2021-11-30T08:15:54.644064",
          "exception": false,
          "start_time": "2021-11-30T08:15:50.124179",
          "status": "completed"
        },
        "tags": [],
        "id": "uWxwVL9RmGjE"
      },
      "source": [
        "##  using only 10 sequential days"
      ]
    },
    {
      "cell_type": "code",
      "metadata": {
        "papermill": {
          "duration": 4.467089,
          "end_time": "2021-11-30T08:16:03.653012",
          "exception": false,
          "start_time": "2021-11-30T08:15:59.185923",
          "status": "completed"
        },
        "tags": [],
        "execution": {
          "iopub.status.busy": "2021-12-02T13:09:04.990847Z",
          "iopub.execute_input": "2021-12-02T13:09:04.991085Z",
          "iopub.status.idle": "2021-12-02T13:09:05.006538Z",
          "shell.execute_reply.started": "2021-12-02T13:09:04.991055Z",
          "shell.execute_reply": "2021-12-02T13:09:05.005338Z"
        },
        "trusted": true,
        "id": "7AROmhrvmGjE"
      },
      "source": [
        "# Creating a data structure with 10 timesteps and 1 output\n",
        "\n",
        "df_X, df_y = [],[]\n",
        "first=10           #  first array=  time steps\n",
        "last =len(df_s)   # last array\n",
        "for i in range(first,last):\n",
        "    df_X.append(df_s[i-first:i])\n",
        "    df_y.append(df_s[i])"
      ],
      "execution_count": 199,
      "outputs": []
    },
    {
      "cell_type": "code",
      "metadata": {
        "papermill": {
          "duration": 4.467089,
          "end_time": "2021-11-30T08:16:03.653012",
          "exception": false,
          "start_time": "2021-11-30T08:15:59.185923",
          "status": "completed"
        },
        "tags": [],
        "execution": {
          "iopub.status.busy": "2021-12-02T13:09:05.007779Z",
          "iopub.execute_input": "2021-12-02T13:09:05.008037Z",
          "iopub.status.idle": "2021-12-02T13:09:05.026055Z",
          "shell.execute_reply.started": "2021-12-02T13:09:05.008006Z",
          "shell.execute_reply": "2021-12-02T13:09:05.025296Z"
        },
        "trusted": true,
        "id": "s7itQ7TzmGjF"
      },
      "source": [
        "df_X, df_y = np.array(df_X), np.array(df_y) "
      ],
      "execution_count": 200,
      "outputs": []
    },
    {
      "cell_type": "code",
      "metadata": {
        "papermill": {
          "duration": 4.467089,
          "end_time": "2021-11-30T08:16:03.653012",
          "exception": false,
          "start_time": "2021-11-30T08:15:59.185923",
          "status": "completed"
        },
        "tags": [],
        "execution": {
          "iopub.status.busy": "2021-12-02T13:09:05.028119Z",
          "iopub.execute_input": "2021-12-02T13:09:05.028632Z",
          "iopub.status.idle": "2021-12-02T13:09:05.038053Z",
          "shell.execute_reply.started": "2021-12-02T13:09:05.028583Z",
          "shell.execute_reply": "2021-12-02T13:09:05.037079Z"
        },
        "trusted": true,
        "colab": {
          "base_uri": "https://localhost:8080/"
        },
        "id": "baxgJSjsmGjF",
        "outputId": "2204a5b0-78c1-4fef-880d-cb80f87a0bf3"
      },
      "source": [
        "# Defining the  TRAIN and TEST part of the dataset\n",
        "test_days=30   \n",
        "X_train=df_X[:-test_days]               # the days before the last 30 days\n",
        "y_train=df_y[:-test_days]\n",
        "X_test=df_X[len(df_X)-test_days:]         # the last 30 days\n",
        "y_test=df_y[len(df_X)-test_days:] \n",
        "\n",
        "shape_()"
      ],
      "execution_count": 201,
      "outputs": [
        {
          "output_type": "stream",
          "name": "stdout",
          "text": [
            "X_train shape: (3336, 10, 1) \n",
            "X_test shape: (30, 10, 1)\n",
            "y_train shape: (3336, 1) \n",
            "y_test shape: (30, 1)\n"
          ]
        }
      ]
    },
    {
      "cell_type": "code",
      "metadata": {
        "papermill": {
          "duration": 4.710968,
          "end_time": "2021-11-30T08:16:13.137733",
          "exception": false,
          "start_time": "2021-11-30T08:16:08.426765",
          "status": "completed"
        },
        "tags": [],
        "execution": {
          "iopub.status.busy": "2021-12-02T13:09:05.039476Z",
          "iopub.execute_input": "2021-12-02T13:09:05.039774Z",
          "iopub.status.idle": "2021-12-02T13:09:05.305063Z",
          "shell.execute_reply.started": "2021-12-02T13:09:05.039734Z",
          "shell.execute_reply": "2021-12-02T13:09:05.304402Z"
        },
        "trusted": true,
        "colab": {
          "base_uri": "https://localhost:8080/"
        },
        "id": "T_FLxW7smGjF",
        "outputId": "d1867e29-a69f-46dc-d0c2-3acb18501b1e"
      },
      "source": [
        "### Create RNN Model\n",
        "\n",
        "# Initialising the RNN\n",
        "regressor = Sequential()\n",
        "# Adding the first RNN layer and some Dropout regularisation\n",
        "regressor.add(SimpleRNN(units = 10,activation='tanh', return_sequences = True, input_shape = (X_train.shape[1], 1)))    # units: 30\n",
        "regressor.add(Dropout(0.2))\n",
        "# Adding a second RNN layer and some Dropout regularisation\n",
        "regressor.add(SimpleRNN(units = 10,activation='relu', return_sequences = True))\n",
        "#regressor.add(Dropout(0.2))\n",
        "# Adding a third RNN layer and some Dropout regularisation\n",
        "regressor.add(SimpleRNN(units = 2,activation='tanh', return_sequences = True))\n",
        "#regressor.add(Dropout(0.2))\n",
        "# Adding a fourth RNN layer and some Dropout regularisation\n",
        "regressor.add(SimpleRNN(units = 20))\n",
        "regressor.add(Dropout(0.2))\n",
        "# Adding the output layer\n",
        "regressor.add(Dense(units = 1))\n",
        "regressor.summary()\n",
        "\n"
      ],
      "execution_count": 202,
      "outputs": [
        {
          "output_type": "stream",
          "name": "stdout",
          "text": [
            "Model: \"sequential_4\"\n",
            "_________________________________________________________________\n",
            " Layer (type)                Output Shape              Param #   \n",
            "=================================================================\n",
            " simple_rnn_16 (SimpleRNN)   (None, 10, 10)            120       \n",
            "                                                                 \n",
            " dropout_8 (Dropout)         (None, 10, 10)            0         \n",
            "                                                                 \n",
            " simple_rnn_17 (SimpleRNN)   (None, 10, 10)            210       \n",
            "                                                                 \n",
            " simple_rnn_18 (SimpleRNN)   (None, 10, 2)             26        \n",
            "                                                                 \n",
            " simple_rnn_19 (SimpleRNN)   (None, 20)                460       \n",
            "                                                                 \n",
            " dropout_9 (Dropout)         (None, 20)                0         \n",
            "                                                                 \n",
            " dense_4 (Dense)             (None, 1)                 21        \n",
            "                                                                 \n",
            "=================================================================\n",
            "Total params: 837\n",
            "Trainable params: 837\n",
            "Non-trainable params: 0\n",
            "_________________________________________________________________\n"
          ]
        }
      ]
    },
    {
      "cell_type": "code",
      "metadata": {
        "papermill": {
          "duration": 168.03209,
          "end_time": "2021-11-30T08:19:05.726757",
          "exception": false,
          "start_time": "2021-11-30T08:16:17.694667",
          "status": "completed"
        },
        "tags": [],
        "execution": {
          "iopub.status.busy": "2021-12-02T13:09:05.306616Z",
          "iopub.execute_input": "2021-12-02T13:09:05.307171Z",
          "iopub.status.idle": "2021-12-02T13:10:20.676117Z",
          "shell.execute_reply.started": "2021-12-02T13:09:05.307118Z",
          "shell.execute_reply": "2021-12-02T13:10:20.675259Z"
        },
        "trusted": true,
        "colab": {
          "base_uri": "https://localhost:8080/",
          "height": 1000
        },
        "id": "dlmQqkEumGjF",
        "outputId": "a0ffc5fa-f4ec-4b32-fbd8-f131bdb17cf5"
      },
      "source": [
        "\n",
        "epochs, batch_size = 30,15\n",
        "# Compiling the RNN\n",
        "regressor.compile(optimizer = 'adam', loss = 'mean_squared_error')\n",
        "# Fitting the RNN to the Training set\n",
        "regressor.fit(X_train, y_train, epochs = epochs, batch_size = batch_size)\n",
        "\n",
        "# save the model to disk\n",
        "#joblib.dump(regressor, \"RNN_model.sav\")\n",
        "# pickle.dump(regressor, open(\"RNN_model.sav\", 'wb'))\n",
        "regressor.save(\"RNN_model.h5\")  # creates a HDF5 file for saving the model\n",
        "joblib.dump(scaler,\"RNN_scaler\")\n",
        "joblib.dump(df,\"RNN_df\")\n",
        "\n",
        "## Prediction wih RNN Model\n",
        "y_train_pred = regressor.predict(X_train)\n",
        "y_train_pred = scaler.inverse_transform(y_train_pred)\n",
        "y_test_pred= regressor.predict(X_test)        #  predicted_stock_price\n",
        "y_test_pred =scaler.inverse_transform(y_test_pred)\n",
        "\n",
        "y_train= scaler.inverse_transform(y_train)\n",
        "y_test= scaler.inverse_transform(y_test)\n",
        "plot_()"
      ],
      "execution_count": 203,
      "outputs": [
        {
          "output_type": "stream",
          "name": "stdout",
          "text": [
            "Epoch 1/30\n",
            "223/223 [==============================] - 5s 10ms/step - loss: 0.0052\n",
            "Epoch 2/30\n",
            "223/223 [==============================] - 2s 10ms/step - loss: 0.0021\n",
            "Epoch 3/30\n",
            "223/223 [==============================] - 2s 10ms/step - loss: 0.0013\n",
            "Epoch 4/30\n",
            "223/223 [==============================] - 2s 10ms/step - loss: 0.0014\n",
            "Epoch 5/30\n",
            "223/223 [==============================] - 2s 10ms/step - loss: 0.0011\n",
            "Epoch 6/30\n",
            "223/223 [==============================] - 2s 10ms/step - loss: 8.3854e-04\n",
            "Epoch 7/30\n",
            "223/223 [==============================] - 2s 10ms/step - loss: 8.6266e-04\n",
            "Epoch 8/30\n",
            "223/223 [==============================] - 2s 9ms/step - loss: 6.9682e-04\n",
            "Epoch 9/30\n",
            "223/223 [==============================] - 2s 10ms/step - loss: 7.6876e-04\n",
            "Epoch 10/30\n",
            "223/223 [==============================] - 2s 10ms/step - loss: 6.0635e-04\n",
            "Epoch 11/30\n",
            "223/223 [==============================] - 2s 10ms/step - loss: 4.9699e-04\n",
            "Epoch 12/30\n",
            "223/223 [==============================] - 2s 10ms/step - loss: 5.7752e-04\n",
            "Epoch 13/30\n",
            "223/223 [==============================] - 2s 10ms/step - loss: 4.5506e-04\n",
            "Epoch 14/30\n",
            "223/223 [==============================] - 2s 10ms/step - loss: 5.2048e-04\n",
            "Epoch 15/30\n",
            "223/223 [==============================] - 2s 10ms/step - loss: 4.3405e-04\n",
            "Epoch 16/30\n",
            "223/223 [==============================] - 2s 10ms/step - loss: 4.1613e-04\n",
            "Epoch 17/30\n",
            "223/223 [==============================] - 2s 10ms/step - loss: 5.0347e-04\n",
            "Epoch 18/30\n",
            "223/223 [==============================] - 2s 10ms/step - loss: 4.0586e-04\n",
            "Epoch 19/30\n",
            "223/223 [==============================] - 2s 10ms/step - loss: 3.8445e-04\n",
            "Epoch 20/30\n",
            "223/223 [==============================] - 2s 10ms/step - loss: 3.6496e-04\n",
            "Epoch 21/30\n",
            "223/223 [==============================] - 2s 10ms/step - loss: 3.7499e-04\n",
            "Epoch 22/30\n",
            "223/223 [==============================] - 2s 10ms/step - loss: 4.0749e-04\n",
            "Epoch 23/30\n",
            "223/223 [==============================] - 2s 10ms/step - loss: 3.7552e-04\n",
            "Epoch 24/30\n",
            "223/223 [==============================] - 2s 10ms/step - loss: 4.3623e-04\n",
            "Epoch 25/30\n",
            "223/223 [==============================] - 2s 10ms/step - loss: 3.7087e-04\n",
            "Epoch 26/30\n",
            "223/223 [==============================] - 2s 10ms/step - loss: 3.4954e-04\n",
            "Epoch 27/30\n",
            "223/223 [==============================] - 2s 10ms/step - loss: 4.0524e-04\n",
            "Epoch 28/30\n",
            "223/223 [==============================] - 2s 10ms/step - loss: 3.6358e-04\n",
            "Epoch 29/30\n",
            "223/223 [==============================] - 2s 10ms/step - loss: 4.0424e-04\n",
            "Epoch 30/30\n",
            "223/223 [==============================] - 2s 10ms/step - loss: 3.3205e-04\n"
          ]
        },
        {
          "output_type": "display_data",
          "data": {
            "image/png": "[encoded data removed]",
            "text/plain": [
              "<Figure size 792x216 with 1 Axes>"
            ]
          },
          "metadata": {}
        },
        {
          "output_type": "display_data",
          "data": {
            "image/png": "[encoded data removed]",
            "text/plain": [
              "<Figure size 792x216 with 1 Axes>"
            ]
          },
          "metadata": {}
        }
      ]
    },
    {
      "cell_type": "markdown",
      "metadata": {
        "papermill": {
          "duration": 5.02241,
          "end_time": "2021-11-30T08:19:15.877618",
          "exception": false,
          "start_time": "2021-11-30T08:19:10.855208",
          "status": "completed"
        },
        "tags": [],
        "id": "qibgB5admGjG"
      },
      "source": [
        "### 10 sequential days"
      ]
    },
    {
      "cell_type": "code",
      "metadata": {
        "execution": {
          "iopub.status.busy": "2021-12-02T13:10:20.677769Z",
          "iopub.execute_input": "2021-12-02T13:10:20.678448Z",
          "iopub.status.idle": "2021-12-02T13:10:20.685105Z",
          "shell.execute_reply.started": "2021-12-02T13:10:20.678399Z",
          "shell.execute_reply": "2021-12-02T13:10:20.684278Z"
        },
        "trusted": true,
        "colab": {
          "base_uri": "https://localhost:8080/"
        },
        "id": "1xPw5c10mGjG",
        "outputId": "c2292c25-2818-45c9-f05a-342adc42a56c"
      },
      "source": [
        "y_test_pred[-1]"
      ],
      "execution_count": 204,
      "outputs": [
        {
          "output_type": "execute_result",
          "data": {
            "text/plain": [
              "array([51684.582], dtype=float32)"
            ]
          },
          "metadata": {},
          "execution_count": 204
        }
      ]
    },
    {
      "cell_type": "code",
      "metadata": {
        "execution": {
          "iopub.status.busy": "2021-12-02T13:10:20.68616Z",
          "iopub.execute_input": "2021-12-02T13:10:20.686739Z",
          "iopub.status.idle": "2021-12-02T13:10:20.701161Z",
          "shell.execute_reply.started": "2021-12-02T13:10:20.686697Z",
          "shell.execute_reply": "2021-12-02T13:10:20.700519Z"
        },
        "trusted": true,
        "colab": {
          "base_uri": "https://localhost:8080/"
        },
        "id": "qXQYsyz0mGjG",
        "outputId": "868a4768-3b89-47c8-ae43-5591f3ff778c"
      },
      "source": [
        "X_train.shape"
      ],
      "execution_count": 205,
      "outputs": [
        {
          "output_type": "execute_result",
          "data": {
            "text/plain": [
              "(3336, 10, 1)"
            ]
          },
          "metadata": {},
          "execution_count": 205
        }
      ]
    },
    {
      "cell_type": "code",
      "metadata": {
        "papermill": {
          "duration": 5.046679,
          "end_time": "2021-11-30T08:19:25.96364",
          "exception": false,
          "start_time": "2021-11-30T08:19:20.916961",
          "status": "completed"
        },
        "tags": [],
        "execution": {
          "iopub.status.busy": "2021-12-02T13:10:20.702388Z",
          "iopub.execute_input": "2021-12-02T13:10:20.70286Z",
          "iopub.status.idle": "2021-12-02T13:10:20.719732Z",
          "shell.execute_reply.started": "2021-12-02T13:10:20.702826Z",
          "shell.execute_reply": "2021-12-02T13:10:20.71889Z"
        },
        "trusted": true,
        "colab": {
          "base_uri": "https://localhost:8080/"
        },
        "id": "NqD_CyeEmGjG",
        "outputId": "5c964671-067e-4d9b-ab97-606d108ff9c1"
      },
      "source": [
        "evals_()"
      ],
      "execution_count": 206,
      "outputs": [
        {
          "output_type": "stream",
          "name": "stdout",
          "text": [
            "y_train / y_train_pred \n",
            "------------------------------------\n",
            "R2_score \t: 0.9864672000590169\n",
            "MAE \t\t: 511.5159202784584\n",
            "MSE \t\t: 609693.8801140011\n",
            "RMSE \t\t: 780.828969822458\n",
            "y_test / y_test_pred \n",
            "------------------------------------\n",
            "R2_score \t: -1.5400717438189502\n",
            "MAE \t\t: 5272.829685667431\n",
            "MSE \t\t: 31752879.028333556\n",
            "RMSE \t\t: 5634.969301454406\n"
          ]
        }
      ]
    },
    {
      "cell_type": "markdown",
      "metadata": {
        "id": "usC7T8gfmGjG"
      },
      "source": [
        "# Deployment Test Section"
      ]
    },
    {
      "cell_type": "code",
      "metadata": {
        "trusted": true,
        "id": "40jZs_8umGjG"
      },
      "source": [
        ""
      ],
      "execution_count": 206,
      "outputs": []
    },
    {
      "cell_type": "code",
      "metadata": {
        "execution": {
          "iopub.status.busy": "2021-12-02T13:16:53.895166Z",
          "iopub.execute_input": "2021-12-02T13:16:53.89549Z",
          "iopub.status.idle": "2021-12-02T13:16:54.838947Z",
          "shell.execute_reply.started": "2021-12-02T13:16:53.895457Z",
          "shell.execute_reply": "2021-12-02T13:16:54.837971Z"
        },
        "trusted": true,
        "id": "VGglFPuFmGjH"
      },
      "source": [
        "# some time later...\n",
        " \n",
        "# load the model from disk\n",
        "regressor=load_model('RNN_model.h5')\n",
        "    #regressor = pickle.load(open('RNN_model.sav', 'rb'))\n",
        "    #regressor = joblib.load('RNN_model.sav')\n",
        "scaler=joblib.load(\"RNN_scaler\")\n",
        "df=joblib.load(\"RNN_df\")\n",
        "df_s = scaler.fit_transform(df)     # df_s : df_scale\n",
        "X_test=np.array([df_s[-10: ]])   \n",
        "y_test_pred= regressor.predict(X_test)        #  predicted_stock_price\n",
        "result =scaler.inverse_transform(y_test_pred)\n"
      ],
      "execution_count": 207,
      "outputs": []
    },
    {
      "cell_type": "code",
      "metadata": {
        "execution": {
          "iopub.status.busy": "2021-12-02T13:16:57.476689Z",
          "iopub.execute_input": "2021-12-02T13:16:57.476974Z",
          "iopub.status.idle": "2021-12-02T13:16:57.483902Z",
          "shell.execute_reply.started": "2021-12-02T13:16:57.476945Z",
          "shell.execute_reply": "2021-12-02T13:16:57.482909Z"
        },
        "trusted": true,
        "colab": {
          "base_uri": "https://localhost:8080/"
        },
        "id": "ZYPxhbr5mGjH",
        "outputId": "83192d31-6833-49db-eeae-e5481485bb69"
      },
      "source": [
        "result[0,0]"
      ],
      "execution_count": 208,
      "outputs": [
        {
          "output_type": "execute_result",
          "data": {
            "text/plain": [
              "52256.34"
            ]
          },
          "metadata": {},
          "execution_count": 208
        }
      ]
    }
  ]
}